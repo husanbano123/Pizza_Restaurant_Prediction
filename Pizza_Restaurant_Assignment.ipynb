{
 "cells": [
  {
   "cell_type": "code",
   "execution_count": 1,
   "id": "0fbe5a1d",
   "metadata": {},
   "outputs": [
    {
     "name": "stdout",
     "output_type": "stream",
     "text": [
      "Requirement already satisfied: imblearn in c:\\users\\admin\\anaconda3\\lib\\site-packages (0.0)\n",
      "Requirement already satisfied: imbalanced-learn in c:\\users\\admin\\anaconda3\\lib\\site-packages (from imblearn) (0.12.3)\n",
      "Requirement already satisfied: numpy>=1.17.3 in c:\\users\\admin\\anaconda3\\lib\\site-packages (from imbalanced-learn->imblearn) (1.20.3)\n",
      "Requirement already satisfied: joblib>=1.1.1 in c:\\users\\admin\\anaconda3\\lib\\site-packages (from imbalanced-learn->imblearn) (1.4.2)\n",
      "Requirement already satisfied: scikit-learn>=1.0.2 in c:\\users\\admin\\anaconda3\\lib\\site-packages (from imbalanced-learn->imblearn) (1.4.2)\n",
      "Requirement already satisfied: scipy>=1.5.0 in c:\\users\\admin\\anaconda3\\lib\\site-packages (from imbalanced-learn->imblearn) (1.7.1)\n",
      "Requirement already satisfied: threadpoolctl>=2.0.0 in c:\\users\\admin\\anaconda3\\lib\\site-packages (from imbalanced-learn->imblearn) (2.2.0)\n",
      "Note: you may need to restart the kernel to use updated packages.\n"
     ]
    }
   ],
   "source": [
    "pip install imblearn"
   ]
  },
  {
   "cell_type": "code",
   "execution_count": 64,
   "id": "75232872",
   "metadata": {},
   "outputs": [],
   "source": [
    "import pandas as pd\n",
    "import numpy as np\n",
    "import matplotlib.pyplot as plt\n",
    "import seaborn as sns\n",
    "from sklearn.preprocessing import LabelEncoder,StandardScaler\n",
    "from sklearn.model_selection import train_test_split,GridSearchCV\n",
    "from sklearn.linear_model import LogisticRegression\n",
    "from sklearn.tree import DecisionTreeClassifier\n",
    "from sklearn.ensemble import RandomForestClassifier\n",
    "from xgboost import XGBClassifier\n",
    "from sklearn.naive_bayes import BernoulliNB\n",
    "from sklearn.metrics import accuracy_score,confusion_matrix,classification_report,roc_auc_score,f1_score\n",
    "from imblearn.over_sampling import SMOTE\n",
    "from collections import Counter"
   ]
  },
  {
   "cell_type": "markdown",
   "id": "29531448",
   "metadata": {},
   "source": [
    "# Step 1: Data PreProcessing"
   ]
  },
  {
   "cell_type": "code",
   "execution_count": 3,
   "id": "da2290d3",
   "metadata": {},
   "outputs": [],
   "source": [
    "data=pd.read_csv(\"C:/Users/Admin/Downloads/Data_DS-Assignment.csv\")"
   ]
  },
  {
   "cell_type": "code",
   "execution_count": 4,
   "id": "03a19696",
   "metadata": {},
   "outputs": [
    {
     "data": {
      "text/plain": [
       "Index(['Customer_ID', 'TOTALQUANTITY', 'Main_Plates_Sale',\n",
       "       'Salads_&_Powerbowls_Sale', 'Salads_Sale', 'Beverages_Sale',\n",
       "       'Mixed_Drinks_Sale', 'Pastas_Sale', 'Soups_Sale', 'Beer_Sale',\n",
       "       'Spirits_Sale', 'Wine_Sale', 'Mains_Sale', 'Pizza_Sale', 'NABs_Sale',\n",
       "       'Specialty_Sale', 'Appetizers_Sale', 'Small_Plates_Sale',\n",
       "       'Lunch_Duos_Sale', 'Combo_Boxes_Sale', 'Desserts_Sale', 'Kids_Sale',\n",
       "       'Sandwiches_Sale', 'TOTAL_DISCOUNT', '%_Alcohol_of_Bill', 'GUEST_COUNT',\n",
       "       'DISTANCE_TO_CLOSESTSTORE', 'SECONDVISITFLAG'],\n",
       "      dtype='object')"
      ]
     },
     "execution_count": 4,
     "metadata": {},
     "output_type": "execute_result"
    }
   ],
   "source": [
    "data.columns\n"
   ]
  },
  {
   "cell_type": "code",
   "execution_count": 5,
   "id": "4418b5c7",
   "metadata": {},
   "outputs": [
    {
     "data": {
      "text/plain": [
       "(239746, 28)"
      ]
     },
     "execution_count": 5,
     "metadata": {},
     "output_type": "execute_result"
    }
   ],
   "source": [
    "data.shape"
   ]
  },
  {
   "cell_type": "code",
   "execution_count": 6,
   "id": "acb2d495",
   "metadata": {},
   "outputs": [
    {
     "data": {
      "text/html": [
       "<div>\n",
       "<style scoped>\n",
       "    .dataframe tbody tr th:only-of-type {\n",
       "        vertical-align: middle;\n",
       "    }\n",
       "\n",
       "    .dataframe tbody tr th {\n",
       "        vertical-align: top;\n",
       "    }\n",
       "\n",
       "    .dataframe thead th {\n",
       "        text-align: right;\n",
       "    }\n",
       "</style>\n",
       "<table border=\"1\" class=\"dataframe\">\n",
       "  <thead>\n",
       "    <tr style=\"text-align: right;\">\n",
       "      <th></th>\n",
       "      <th>Customer_ID</th>\n",
       "      <th>TOTALQUANTITY</th>\n",
       "      <th>Main_Plates_Sale</th>\n",
       "      <th>Salads_&amp;_Powerbowls_Sale</th>\n",
       "      <th>Salads_Sale</th>\n",
       "      <th>Beverages_Sale</th>\n",
       "      <th>Mixed_Drinks_Sale</th>\n",
       "      <th>Pastas_Sale</th>\n",
       "      <th>Soups_Sale</th>\n",
       "      <th>Beer_Sale</th>\n",
       "      <th>...</th>\n",
       "      <th>Small_Plates_Sale</th>\n",
       "      <th>Lunch_Duos_Sale</th>\n",
       "      <th>Combo_Boxes_Sale</th>\n",
       "      <th>Desserts_Sale</th>\n",
       "      <th>Kids_Sale</th>\n",
       "      <th>Sandwiches_Sale</th>\n",
       "      <th>TOTAL_DISCOUNT</th>\n",
       "      <th>%_Alcohol_of_Bill</th>\n",
       "      <th>GUEST_COUNT</th>\n",
       "      <th>DISTANCE_TO_CLOSESTSTORE</th>\n",
       "    </tr>\n",
       "  </thead>\n",
       "  <tbody>\n",
       "    <tr>\n",
       "      <th>count</th>\n",
       "      <td>2.397460e+05</td>\n",
       "      <td>239746.000000</td>\n",
       "      <td>239746.000000</td>\n",
       "      <td>239746.000000</td>\n",
       "      <td>239746.000000</td>\n",
       "      <td>239746.000000</td>\n",
       "      <td>239746.000000</td>\n",
       "      <td>239746.000000</td>\n",
       "      <td>239746.000000</td>\n",
       "      <td>239746.000000</td>\n",
       "      <td>...</td>\n",
       "      <td>239746.000000</td>\n",
       "      <td>239746.000000</td>\n",
       "      <td>239746.000000</td>\n",
       "      <td>239746.000000</td>\n",
       "      <td>239746.000000</td>\n",
       "      <td>239746.000000</td>\n",
       "      <td>239746.000000</td>\n",
       "      <td>239746.000000</td>\n",
       "      <td>239746.000000</td>\n",
       "      <td>238561.000000</td>\n",
       "    </tr>\n",
       "    <tr>\n",
       "      <th>mean</th>\n",
       "      <td>1.471446e+08</td>\n",
       "      <td>4.962035</td>\n",
       "      <td>2.668773</td>\n",
       "      <td>0.355731</td>\n",
       "      <td>5.882149</td>\n",
       "      <td>0.082555</td>\n",
       "      <td>1.848684</td>\n",
       "      <td>5.902421</td>\n",
       "      <td>0.532838</td>\n",
       "      <td>0.444401</td>\n",
       "      <td>...</td>\n",
       "      <td>0.831473</td>\n",
       "      <td>2.198858</td>\n",
       "      <td>0.474971</td>\n",
       "      <td>0.955284</td>\n",
       "      <td>0.042451</td>\n",
       "      <td>0.519163</td>\n",
       "      <td>4.171373</td>\n",
       "      <td>5.370109</td>\n",
       "      <td>1.585023</td>\n",
       "      <td>20.585448</td>\n",
       "    </tr>\n",
       "    <tr>\n",
       "      <th>std</th>\n",
       "      <td>8.910179e+06</td>\n",
       "      <td>4.395055</td>\n",
       "      <td>9.120996</td>\n",
       "      <td>6.618377</td>\n",
       "      <td>12.850325</td>\n",
       "      <td>1.481635</td>\n",
       "      <td>6.509682</td>\n",
       "      <td>15.213864</td>\n",
       "      <td>2.520602</td>\n",
       "      <td>2.515728</td>\n",
       "      <td>...</td>\n",
       "      <td>2.892918</td>\n",
       "      <td>7.862741</td>\n",
       "      <td>14.498232</td>\n",
       "      <td>4.110883</td>\n",
       "      <td>1.964961</td>\n",
       "      <td>8.420815</td>\n",
       "      <td>8.196152</td>\n",
       "      <td>14.831186</td>\n",
       "      <td>1.449732</td>\n",
       "      <td>50.689918</td>\n",
       "    </tr>\n",
       "    <tr>\n",
       "      <th>min</th>\n",
       "      <td>1.367098e+08</td>\n",
       "      <td>1.000000</td>\n",
       "      <td>0.000000</td>\n",
       "      <td>0.000000</td>\n",
       "      <td>0.000000</td>\n",
       "      <td>0.000000</td>\n",
       "      <td>0.000000</td>\n",
       "      <td>0.000000</td>\n",
       "      <td>0.000000</td>\n",
       "      <td>0.000000</td>\n",
       "      <td>...</td>\n",
       "      <td>0.000000</td>\n",
       "      <td>0.000000</td>\n",
       "      <td>0.000000</td>\n",
       "      <td>0.000000</td>\n",
       "      <td>0.000000</td>\n",
       "      <td>0.000000</td>\n",
       "      <td>0.000000</td>\n",
       "      <td>0.000000</td>\n",
       "      <td>0.000000</td>\n",
       "      <td>0.000000</td>\n",
       "    </tr>\n",
       "    <tr>\n",
       "      <th>25%</th>\n",
       "      <td>1.394777e+08</td>\n",
       "      <td>2.000000</td>\n",
       "      <td>0.000000</td>\n",
       "      <td>0.000000</td>\n",
       "      <td>0.000000</td>\n",
       "      <td>0.000000</td>\n",
       "      <td>0.000000</td>\n",
       "      <td>0.000000</td>\n",
       "      <td>0.000000</td>\n",
       "      <td>0.000000</td>\n",
       "      <td>...</td>\n",
       "      <td>0.000000</td>\n",
       "      <td>0.000000</td>\n",
       "      <td>0.000000</td>\n",
       "      <td>0.000000</td>\n",
       "      <td>0.000000</td>\n",
       "      <td>0.000000</td>\n",
       "      <td>0.000000</td>\n",
       "      <td>0.000000</td>\n",
       "      <td>1.000000</td>\n",
       "      <td>3.319105</td>\n",
       "    </tr>\n",
       "    <tr>\n",
       "      <th>50%</th>\n",
       "      <td>1.437634e+08</td>\n",
       "      <td>4.000000</td>\n",
       "      <td>0.000000</td>\n",
       "      <td>0.000000</td>\n",
       "      <td>0.000000</td>\n",
       "      <td>0.000000</td>\n",
       "      <td>0.000000</td>\n",
       "      <td>0.000000</td>\n",
       "      <td>0.000000</td>\n",
       "      <td>0.000000</td>\n",
       "      <td>...</td>\n",
       "      <td>0.000000</td>\n",
       "      <td>0.000000</td>\n",
       "      <td>0.000000</td>\n",
       "      <td>0.000000</td>\n",
       "      <td>0.000000</td>\n",
       "      <td>0.000000</td>\n",
       "      <td>0.000000</td>\n",
       "      <td>0.000000</td>\n",
       "      <td>1.000000</td>\n",
       "      <td>6.569343</td>\n",
       "    </tr>\n",
       "    <tr>\n",
       "      <th>75%</th>\n",
       "      <td>1.536307e+08</td>\n",
       "      <td>6.000000</td>\n",
       "      <td>0.000000</td>\n",
       "      <td>0.000000</td>\n",
       "      <td>12.590000</td>\n",
       "      <td>0.000000</td>\n",
       "      <td>0.000000</td>\n",
       "      <td>0.000000</td>\n",
       "      <td>0.000000</td>\n",
       "      <td>0.000000</td>\n",
       "      <td>...</td>\n",
       "      <td>0.000000</td>\n",
       "      <td>0.000000</td>\n",
       "      <td>0.000000</td>\n",
       "      <td>0.000000</td>\n",
       "      <td>0.000000</td>\n",
       "      <td>0.000000</td>\n",
       "      <td>7.000000</td>\n",
       "      <td>0.000000</td>\n",
       "      <td>2.000000</td>\n",
       "      <td>12.450748</td>\n",
       "    </tr>\n",
       "    <tr>\n",
       "      <th>max</th>\n",
       "      <td>1.680222e+08</td>\n",
       "      <td>389.000000</td>\n",
       "      <td>335.880000</td>\n",
       "      <td>840.000000</td>\n",
       "      <td>2128.500000</td>\n",
       "      <td>253.000000</td>\n",
       "      <td>251.390000</td>\n",
       "      <td>1998.210000</td>\n",
       "      <td>170.810000</td>\n",
       "      <td>190.120000</td>\n",
       "      <td>...</td>\n",
       "      <td>349.500000</td>\n",
       "      <td>688.240000</td>\n",
       "      <td>2250.000000</td>\n",
       "      <td>360.000000</td>\n",
       "      <td>264.440000</td>\n",
       "      <td>1500.000000</td>\n",
       "      <td>550.000000</td>\n",
       "      <td>100.000000</td>\n",
       "      <td>235.000000</td>\n",
       "      <td>285.789635</td>\n",
       "    </tr>\n",
       "  </tbody>\n",
       "</table>\n",
       "<p>8 rows × 27 columns</p>\n",
       "</div>"
      ],
      "text/plain": [
       "        Customer_ID  TOTALQUANTITY  Main_Plates_Sale  \\\n",
       "count  2.397460e+05  239746.000000     239746.000000   \n",
       "mean   1.471446e+08       4.962035          2.668773   \n",
       "std    8.910179e+06       4.395055          9.120996   \n",
       "min    1.367098e+08       1.000000          0.000000   \n",
       "25%    1.394777e+08       2.000000          0.000000   \n",
       "50%    1.437634e+08       4.000000          0.000000   \n",
       "75%    1.536307e+08       6.000000          0.000000   \n",
       "max    1.680222e+08     389.000000        335.880000   \n",
       "\n",
       "       Salads_&_Powerbowls_Sale    Salads_Sale  Beverages_Sale  \\\n",
       "count             239746.000000  239746.000000   239746.000000   \n",
       "mean                   0.355731       5.882149        0.082555   \n",
       "std                    6.618377      12.850325        1.481635   \n",
       "min                    0.000000       0.000000        0.000000   \n",
       "25%                    0.000000       0.000000        0.000000   \n",
       "50%                    0.000000       0.000000        0.000000   \n",
       "75%                    0.000000      12.590000        0.000000   \n",
       "max                  840.000000    2128.500000      253.000000   \n",
       "\n",
       "       Mixed_Drinks_Sale    Pastas_Sale     Soups_Sale      Beer_Sale  ...  \\\n",
       "count      239746.000000  239746.000000  239746.000000  239746.000000  ...   \n",
       "mean            1.848684       5.902421       0.532838       0.444401  ...   \n",
       "std             6.509682      15.213864       2.520602       2.515728  ...   \n",
       "min             0.000000       0.000000       0.000000       0.000000  ...   \n",
       "25%             0.000000       0.000000       0.000000       0.000000  ...   \n",
       "50%             0.000000       0.000000       0.000000       0.000000  ...   \n",
       "75%             0.000000       0.000000       0.000000       0.000000  ...   \n",
       "max           251.390000    1998.210000     170.810000     190.120000  ...   \n",
       "\n",
       "       Small_Plates_Sale  Lunch_Duos_Sale  Combo_Boxes_Sale  Desserts_Sale  \\\n",
       "count      239746.000000    239746.000000     239746.000000  239746.000000   \n",
       "mean            0.831473         2.198858          0.474971       0.955284   \n",
       "std             2.892918         7.862741         14.498232       4.110883   \n",
       "min             0.000000         0.000000          0.000000       0.000000   \n",
       "25%             0.000000         0.000000          0.000000       0.000000   \n",
       "50%             0.000000         0.000000          0.000000       0.000000   \n",
       "75%             0.000000         0.000000          0.000000       0.000000   \n",
       "max           349.500000       688.240000       2250.000000     360.000000   \n",
       "\n",
       "           Kids_Sale  Sandwiches_Sale  TOTAL_DISCOUNT  %_Alcohol_of_Bill  \\\n",
       "count  239746.000000    239746.000000   239746.000000      239746.000000   \n",
       "mean        0.042451         0.519163        4.171373           5.370109   \n",
       "std         1.964961         8.420815        8.196152          14.831186   \n",
       "min         0.000000         0.000000        0.000000           0.000000   \n",
       "25%         0.000000         0.000000        0.000000           0.000000   \n",
       "50%         0.000000         0.000000        0.000000           0.000000   \n",
       "75%         0.000000         0.000000        7.000000           0.000000   \n",
       "max       264.440000      1500.000000      550.000000         100.000000   \n",
       "\n",
       "         GUEST_COUNT  DISTANCE_TO_CLOSESTSTORE  \n",
       "count  239746.000000             238561.000000  \n",
       "mean        1.585023                 20.585448  \n",
       "std         1.449732                 50.689918  \n",
       "min         0.000000                  0.000000  \n",
       "25%         1.000000                  3.319105  \n",
       "50%         1.000000                  6.569343  \n",
       "75%         2.000000                 12.450748  \n",
       "max       235.000000                285.789635  \n",
       "\n",
       "[8 rows x 27 columns]"
      ]
     },
     "execution_count": 6,
     "metadata": {},
     "output_type": "execute_result"
    }
   ],
   "source": [
    "data.describe()"
   ]
  },
  {
   "cell_type": "code",
   "execution_count": 7,
   "id": "a4220f75",
   "metadata": {},
   "outputs": [
    {
     "name": "stdout",
     "output_type": "stream",
     "text": [
      "<class 'pandas.core.frame.DataFrame'>\n",
      "RangeIndex: 239746 entries, 0 to 239745\n",
      "Data columns (total 28 columns):\n",
      " #   Column                    Non-Null Count   Dtype  \n",
      "---  ------                    --------------   -----  \n",
      " 0   Customer_ID               239746 non-null  int64  \n",
      " 1   TOTALQUANTITY             239746 non-null  int64  \n",
      " 2   Main_Plates_Sale          239746 non-null  float64\n",
      " 3   Salads_&_Powerbowls_Sale  239746 non-null  float64\n",
      " 4   Salads_Sale               239746 non-null  float64\n",
      " 5   Beverages_Sale            239746 non-null  float64\n",
      " 6   Mixed_Drinks_Sale         239746 non-null  float64\n",
      " 7   Pastas_Sale               239746 non-null  float64\n",
      " 8   Soups_Sale                239746 non-null  float64\n",
      " 9   Beer_Sale                 239746 non-null  float64\n",
      " 10  Spirits_Sale              239746 non-null  float64\n",
      " 11  Wine_Sale                 239746 non-null  float64\n",
      " 12  Mains_Sale                239746 non-null  float64\n",
      " 13  Pizza_Sale                239746 non-null  float64\n",
      " 14  NABs_Sale                 239746 non-null  float64\n",
      " 15  Specialty_Sale            239746 non-null  float64\n",
      " 16  Appetizers_Sale           239746 non-null  float64\n",
      " 17  Small_Plates_Sale         239746 non-null  float64\n",
      " 18  Lunch_Duos_Sale           239746 non-null  float64\n",
      " 19  Combo_Boxes_Sale          239746 non-null  float64\n",
      " 20  Desserts_Sale             239746 non-null  float64\n",
      " 21  Kids_Sale                 239746 non-null  float64\n",
      " 22  Sandwiches_Sale           239746 non-null  float64\n",
      " 23  TOTAL_DISCOUNT            239746 non-null  float64\n",
      " 24  %_Alcohol_of_Bill         239746 non-null  float64\n",
      " 25  GUEST_COUNT               239746 non-null  int64  \n",
      " 26  DISTANCE_TO_CLOSESTSTORE  238561 non-null  float64\n",
      " 27  SECONDVISITFLAG           239746 non-null  object \n",
      "dtypes: float64(24), int64(3), object(1)\n",
      "memory usage: 51.2+ MB\n"
     ]
    }
   ],
   "source": [
    "data.info()"
   ]
  },
  {
   "cell_type": "code",
   "execution_count": 72,
   "id": "fb2c0428",
   "metadata": {},
   "outputs": [
    {
     "data": {
      "text/html": [
       "<div>\n",
       "<style scoped>\n",
       "    .dataframe tbody tr th:only-of-type {\n",
       "        vertical-align: middle;\n",
       "    }\n",
       "\n",
       "    .dataframe tbody tr th {\n",
       "        vertical-align: top;\n",
       "    }\n",
       "\n",
       "    .dataframe thead th {\n",
       "        text-align: right;\n",
       "    }\n",
       "</style>\n",
       "<table border=\"1\" class=\"dataframe\">\n",
       "  <thead>\n",
       "    <tr style=\"text-align: right;\">\n",
       "      <th></th>\n",
       "      <th>Customer_ID</th>\n",
       "      <th>TOTALQUANTITY</th>\n",
       "      <th>Main_Plates_Sale</th>\n",
       "      <th>Salads_&amp;_Powerbowls_Sale</th>\n",
       "      <th>Salads_Sale</th>\n",
       "      <th>Beverages_Sale</th>\n",
       "      <th>Mixed_Drinks_Sale</th>\n",
       "      <th>Pastas_Sale</th>\n",
       "      <th>Soups_Sale</th>\n",
       "      <th>Beer_Sale</th>\n",
       "      <th>...</th>\n",
       "      <th>Lunch_Duos_Sale</th>\n",
       "      <th>Combo_Boxes_Sale</th>\n",
       "      <th>Desserts_Sale</th>\n",
       "      <th>Kids_Sale</th>\n",
       "      <th>Sandwiches_Sale</th>\n",
       "      <th>TOTAL_DISCOUNT</th>\n",
       "      <th>%_Alcohol_of_Bill</th>\n",
       "      <th>GUEST_COUNT</th>\n",
       "      <th>DISTANCE_TO_CLOSESTSTORE</th>\n",
       "      <th>SECONDVISITFLAG</th>\n",
       "    </tr>\n",
       "  </thead>\n",
       "  <tbody>\n",
       "    <tr>\n",
       "      <th>0</th>\n",
       "      <td>138721796</td>\n",
       "      <td>17</td>\n",
       "      <td>0.0</td>\n",
       "      <td>0.0</td>\n",
       "      <td>26.28</td>\n",
       "      <td>0.0</td>\n",
       "      <td>0.0</td>\n",
       "      <td>0.00</td>\n",
       "      <td>6.99</td>\n",
       "      <td>0.0</td>\n",
       "      <td>...</td>\n",
       "      <td>22.90</td>\n",
       "      <td>0.0</td>\n",
       "      <td>0.00</td>\n",
       "      <td>0.0</td>\n",
       "      <td>0.0</td>\n",
       "      <td>0.00</td>\n",
       "      <td>0.0</td>\n",
       "      <td>6</td>\n",
       "      <td>4.468420</td>\n",
       "      <td>N</td>\n",
       "    </tr>\n",
       "    <tr>\n",
       "      <th>1</th>\n",
       "      <td>138530825</td>\n",
       "      <td>2</td>\n",
       "      <td>0.0</td>\n",
       "      <td>0.0</td>\n",
       "      <td>0.00</td>\n",
       "      <td>0.0</td>\n",
       "      <td>0.0</td>\n",
       "      <td>0.00</td>\n",
       "      <td>0.00</td>\n",
       "      <td>0.0</td>\n",
       "      <td>...</td>\n",
       "      <td>0.00</td>\n",
       "      <td>0.0</td>\n",
       "      <td>0.00</td>\n",
       "      <td>0.0</td>\n",
       "      <td>0.0</td>\n",
       "      <td>10.00</td>\n",
       "      <td>0.0</td>\n",
       "      <td>1</td>\n",
       "      <td>4.468420</td>\n",
       "      <td>N</td>\n",
       "    </tr>\n",
       "    <tr>\n",
       "      <th>2</th>\n",
       "      <td>138722449</td>\n",
       "      <td>3</td>\n",
       "      <td>0.0</td>\n",
       "      <td>0.0</td>\n",
       "      <td>0.00</td>\n",
       "      <td>0.0</td>\n",
       "      <td>0.0</td>\n",
       "      <td>0.00</td>\n",
       "      <td>0.00</td>\n",
       "      <td>0.0</td>\n",
       "      <td>...</td>\n",
       "      <td>0.00</td>\n",
       "      <td>0.0</td>\n",
       "      <td>0.00</td>\n",
       "      <td>0.0</td>\n",
       "      <td>0.0</td>\n",
       "      <td>0.00</td>\n",
       "      <td>0.0</td>\n",
       "      <td>1</td>\n",
       "      <td>4.468420</td>\n",
       "      <td>N</td>\n",
       "    </tr>\n",
       "    <tr>\n",
       "      <th>3</th>\n",
       "      <td>138729131</td>\n",
       "      <td>3</td>\n",
       "      <td>0.0</td>\n",
       "      <td>0.0</td>\n",
       "      <td>0.00</td>\n",
       "      <td>0.0</td>\n",
       "      <td>0.0</td>\n",
       "      <td>0.00</td>\n",
       "      <td>0.00</td>\n",
       "      <td>0.0</td>\n",
       "      <td>...</td>\n",
       "      <td>0.00</td>\n",
       "      <td>0.0</td>\n",
       "      <td>6.29</td>\n",
       "      <td>0.0</td>\n",
       "      <td>0.0</td>\n",
       "      <td>0.00</td>\n",
       "      <td>0.0</td>\n",
       "      <td>1</td>\n",
       "      <td>1.531161</td>\n",
       "      <td>N</td>\n",
       "    </tr>\n",
       "    <tr>\n",
       "      <th>4</th>\n",
       "      <td>138725186</td>\n",
       "      <td>1</td>\n",
       "      <td>0.0</td>\n",
       "      <td>0.0</td>\n",
       "      <td>0.00</td>\n",
       "      <td>0.0</td>\n",
       "      <td>0.0</td>\n",
       "      <td>0.00</td>\n",
       "      <td>0.00</td>\n",
       "      <td>0.0</td>\n",
       "      <td>...</td>\n",
       "      <td>0.00</td>\n",
       "      <td>0.0</td>\n",
       "      <td>0.00</td>\n",
       "      <td>0.0</td>\n",
       "      <td>0.0</td>\n",
       "      <td>0.00</td>\n",
       "      <td>0.0</td>\n",
       "      <td>1</td>\n",
       "      <td>1.531161</td>\n",
       "      <td>N</td>\n",
       "    </tr>\n",
       "    <tr>\n",
       "      <th>...</th>\n",
       "      <td>...</td>\n",
       "      <td>...</td>\n",
       "      <td>...</td>\n",
       "      <td>...</td>\n",
       "      <td>...</td>\n",
       "      <td>...</td>\n",
       "      <td>...</td>\n",
       "      <td>...</td>\n",
       "      <td>...</td>\n",
       "      <td>...</td>\n",
       "      <td>...</td>\n",
       "      <td>...</td>\n",
       "      <td>...</td>\n",
       "      <td>...</td>\n",
       "      <td>...</td>\n",
       "      <td>...</td>\n",
       "      <td>...</td>\n",
       "      <td>...</td>\n",
       "      <td>...</td>\n",
       "      <td>...</td>\n",
       "      <td>...</td>\n",
       "    </tr>\n",
       "    <tr>\n",
       "      <th>239741</th>\n",
       "      <td>154236949</td>\n",
       "      <td>1</td>\n",
       "      <td>0.0</td>\n",
       "      <td>0.0</td>\n",
       "      <td>0.00</td>\n",
       "      <td>0.0</td>\n",
       "      <td>0.0</td>\n",
       "      <td>0.00</td>\n",
       "      <td>0.00</td>\n",
       "      <td>0.0</td>\n",
       "      <td>...</td>\n",
       "      <td>0.00</td>\n",
       "      <td>0.0</td>\n",
       "      <td>0.00</td>\n",
       "      <td>0.0</td>\n",
       "      <td>0.0</td>\n",
       "      <td>5.00</td>\n",
       "      <td>0.0</td>\n",
       "      <td>1</td>\n",
       "      <td>3.549361</td>\n",
       "      <td>Y</td>\n",
       "    </tr>\n",
       "    <tr>\n",
       "      <th>239742</th>\n",
       "      <td>154239880</td>\n",
       "      <td>10</td>\n",
       "      <td>0.0</td>\n",
       "      <td>55.0</td>\n",
       "      <td>57.97</td>\n",
       "      <td>0.0</td>\n",
       "      <td>0.0</td>\n",
       "      <td>0.00</td>\n",
       "      <td>0.00</td>\n",
       "      <td>0.0</td>\n",
       "      <td>...</td>\n",
       "      <td>0.00</td>\n",
       "      <td>0.0</td>\n",
       "      <td>0.00</td>\n",
       "      <td>0.0</td>\n",
       "      <td>0.0</td>\n",
       "      <td>0.00</td>\n",
       "      <td>0.0</td>\n",
       "      <td>1</td>\n",
       "      <td>11.908136</td>\n",
       "      <td>Y</td>\n",
       "    </tr>\n",
       "    <tr>\n",
       "      <th>239743</th>\n",
       "      <td>154242996</td>\n",
       "      <td>5</td>\n",
       "      <td>0.0</td>\n",
       "      <td>0.0</td>\n",
       "      <td>0.00</td>\n",
       "      <td>0.0</td>\n",
       "      <td>0.0</td>\n",
       "      <td>9.12</td>\n",
       "      <td>0.00</td>\n",
       "      <td>0.0</td>\n",
       "      <td>...</td>\n",
       "      <td>0.00</td>\n",
       "      <td>0.0</td>\n",
       "      <td>0.00</td>\n",
       "      <td>0.0</td>\n",
       "      <td>0.0</td>\n",
       "      <td>31.40</td>\n",
       "      <td>0.0</td>\n",
       "      <td>1</td>\n",
       "      <td>6.669160</td>\n",
       "      <td>Y</td>\n",
       "    </tr>\n",
       "    <tr>\n",
       "      <th>239744</th>\n",
       "      <td>154242268</td>\n",
       "      <td>2</td>\n",
       "      <td>0.0</td>\n",
       "      <td>0.0</td>\n",
       "      <td>0.00</td>\n",
       "      <td>0.0</td>\n",
       "      <td>0.0</td>\n",
       "      <td>0.00</td>\n",
       "      <td>0.00</td>\n",
       "      <td>0.0</td>\n",
       "      <td>...</td>\n",
       "      <td>0.00</td>\n",
       "      <td>0.0</td>\n",
       "      <td>0.00</td>\n",
       "      <td>0.0</td>\n",
       "      <td>0.0</td>\n",
       "      <td>0.00</td>\n",
       "      <td>0.0</td>\n",
       "      <td>0</td>\n",
       "      <td>12.951460</td>\n",
       "      <td>Y</td>\n",
       "    </tr>\n",
       "    <tr>\n",
       "      <th>239745</th>\n",
       "      <td>154063074</td>\n",
       "      <td>4</td>\n",
       "      <td>0.0</td>\n",
       "      <td>0.0</td>\n",
       "      <td>0.00</td>\n",
       "      <td>0.0</td>\n",
       "      <td>0.0</td>\n",
       "      <td>0.00</td>\n",
       "      <td>0.00</td>\n",
       "      <td>0.0</td>\n",
       "      <td>...</td>\n",
       "      <td>16.09</td>\n",
       "      <td>0.0</td>\n",
       "      <td>0.00</td>\n",
       "      <td>0.0</td>\n",
       "      <td>0.0</td>\n",
       "      <td>10.19</td>\n",
       "      <td>0.0</td>\n",
       "      <td>1</td>\n",
       "      <td>5.747999</td>\n",
       "      <td>Y</td>\n",
       "    </tr>\n",
       "  </tbody>\n",
       "</table>\n",
       "<p>239746 rows × 28 columns</p>\n",
       "</div>"
      ],
      "text/plain": [
       "        Customer_ID  TOTALQUANTITY  Main_Plates_Sale  \\\n",
       "0         138721796             17               0.0   \n",
       "1         138530825              2               0.0   \n",
       "2         138722449              3               0.0   \n",
       "3         138729131              3               0.0   \n",
       "4         138725186              1               0.0   \n",
       "...             ...            ...               ...   \n",
       "239741    154236949              1               0.0   \n",
       "239742    154239880             10               0.0   \n",
       "239743    154242996              5               0.0   \n",
       "239744    154242268              2               0.0   \n",
       "239745    154063074              4               0.0   \n",
       "\n",
       "        Salads_&_Powerbowls_Sale  Salads_Sale  Beverages_Sale  \\\n",
       "0                            0.0        26.28             0.0   \n",
       "1                            0.0         0.00             0.0   \n",
       "2                            0.0         0.00             0.0   \n",
       "3                            0.0         0.00             0.0   \n",
       "4                            0.0         0.00             0.0   \n",
       "...                          ...          ...             ...   \n",
       "239741                       0.0         0.00             0.0   \n",
       "239742                      55.0        57.97             0.0   \n",
       "239743                       0.0         0.00             0.0   \n",
       "239744                       0.0         0.00             0.0   \n",
       "239745                       0.0         0.00             0.0   \n",
       "\n",
       "        Mixed_Drinks_Sale  Pastas_Sale  Soups_Sale  Beer_Sale  ...  \\\n",
       "0                     0.0         0.00        6.99        0.0  ...   \n",
       "1                     0.0         0.00        0.00        0.0  ...   \n",
       "2                     0.0         0.00        0.00        0.0  ...   \n",
       "3                     0.0         0.00        0.00        0.0  ...   \n",
       "4                     0.0         0.00        0.00        0.0  ...   \n",
       "...                   ...          ...         ...        ...  ...   \n",
       "239741                0.0         0.00        0.00        0.0  ...   \n",
       "239742                0.0         0.00        0.00        0.0  ...   \n",
       "239743                0.0         9.12        0.00        0.0  ...   \n",
       "239744                0.0         0.00        0.00        0.0  ...   \n",
       "239745                0.0         0.00        0.00        0.0  ...   \n",
       "\n",
       "        Lunch_Duos_Sale  Combo_Boxes_Sale  Desserts_Sale  Kids_Sale  \\\n",
       "0                 22.90               0.0           0.00        0.0   \n",
       "1                  0.00               0.0           0.00        0.0   \n",
       "2                  0.00               0.0           0.00        0.0   \n",
       "3                  0.00               0.0           6.29        0.0   \n",
       "4                  0.00               0.0           0.00        0.0   \n",
       "...                 ...               ...            ...        ...   \n",
       "239741             0.00               0.0           0.00        0.0   \n",
       "239742             0.00               0.0           0.00        0.0   \n",
       "239743             0.00               0.0           0.00        0.0   \n",
       "239744             0.00               0.0           0.00        0.0   \n",
       "239745            16.09               0.0           0.00        0.0   \n",
       "\n",
       "        Sandwiches_Sale  TOTAL_DISCOUNT  %_Alcohol_of_Bill  GUEST_COUNT  \\\n",
       "0                   0.0            0.00                0.0            6   \n",
       "1                   0.0           10.00                0.0            1   \n",
       "2                   0.0            0.00                0.0            1   \n",
       "3                   0.0            0.00                0.0            1   \n",
       "4                   0.0            0.00                0.0            1   \n",
       "...                 ...             ...                ...          ...   \n",
       "239741              0.0            5.00                0.0            1   \n",
       "239742              0.0            0.00                0.0            1   \n",
       "239743              0.0           31.40                0.0            1   \n",
       "239744              0.0            0.00                0.0            0   \n",
       "239745              0.0           10.19                0.0            1   \n",
       "\n",
       "        DISTANCE_TO_CLOSESTSTORE  SECONDVISITFLAG  \n",
       "0                       4.468420                N  \n",
       "1                       4.468420                N  \n",
       "2                       4.468420                N  \n",
       "3                       1.531161                N  \n",
       "4                       1.531161                N  \n",
       "...                          ...              ...  \n",
       "239741                  3.549361                Y  \n",
       "239742                 11.908136                Y  \n",
       "239743                  6.669160                Y  \n",
       "239744                 12.951460                Y  \n",
       "239745                  5.747999                Y  \n",
       "\n",
       "[239746 rows x 28 columns]"
      ]
     },
     "execution_count": 72,
     "metadata": {},
     "output_type": "execute_result"
    }
   ],
   "source": [
    "data"
   ]
  },
  {
   "cell_type": "code",
   "execution_count": 9,
   "id": "2a959cad",
   "metadata": {},
   "outputs": [
    {
     "data": {
      "text/plain": [
       "Customer_ID                    0\n",
       "TOTALQUANTITY                  0\n",
       "Main_Plates_Sale               0\n",
       "Salads_&_Powerbowls_Sale       0\n",
       "Salads_Sale                    0\n",
       "Beverages_Sale                 0\n",
       "Mixed_Drinks_Sale              0\n",
       "Pastas_Sale                    0\n",
       "Soups_Sale                     0\n",
       "Beer_Sale                      0\n",
       "Spirits_Sale                   0\n",
       "Wine_Sale                      0\n",
       "Mains_Sale                     0\n",
       "Pizza_Sale                     0\n",
       "NABs_Sale                      0\n",
       "Specialty_Sale                 0\n",
       "Appetizers_Sale                0\n",
       "Small_Plates_Sale              0\n",
       "Lunch_Duos_Sale                0\n",
       "Combo_Boxes_Sale               0\n",
       "Desserts_Sale                  0\n",
       "Kids_Sale                      0\n",
       "Sandwiches_Sale                0\n",
       "TOTAL_DISCOUNT                 0\n",
       "%_Alcohol_of_Bill              0\n",
       "GUEST_COUNT                    0\n",
       "DISTANCE_TO_CLOSESTSTORE    1185\n",
       "SECONDVISITFLAG                0\n",
       "dtype: int64"
      ]
     },
     "execution_count": 9,
     "metadata": {},
     "output_type": "execute_result"
    }
   ],
   "source": [
    "data.isnull().sum()"
   ]
  },
  {
   "cell_type": "code",
   "execution_count": 10,
   "id": "c2f109e2",
   "metadata": {},
   "outputs": [],
   "source": [
    "data_new=data.copy()"
   ]
  },
  {
   "cell_type": "code",
   "execution_count": 11,
   "id": "7c3602e5",
   "metadata": {},
   "outputs": [],
   "source": [
    "data_new.drop('Customer_ID',axis=1,inplace=True)"
   ]
  },
  {
   "cell_type": "code",
   "execution_count": 12,
   "id": "3594eb7b",
   "metadata": {},
   "outputs": [],
   "source": [
    "#drop null values\n",
    "data_cleaned=data_new.dropna(subset=['DISTANCE_TO_CLOSESTSTORE'],inplace=True)"
   ]
  },
  {
   "cell_type": "code",
   "execution_count": 13,
   "id": "823505e5",
   "metadata": {},
   "outputs": [
    {
     "data": {
      "text/plain": [
       "0"
      ]
     },
     "execution_count": 13,
     "metadata": {},
     "output_type": "execute_result"
    }
   ],
   "source": [
    "data_new['DISTANCE_TO_CLOSESTSTORE'].isnull().sum()"
   ]
  },
  {
   "cell_type": "code",
   "execution_count": 14,
   "id": "52b63efa",
   "metadata": {},
   "outputs": [
    {
     "data": {
      "text/html": [
       "<div>\n",
       "<style scoped>\n",
       "    .dataframe tbody tr th:only-of-type {\n",
       "        vertical-align: middle;\n",
       "    }\n",
       "\n",
       "    .dataframe tbody tr th {\n",
       "        vertical-align: top;\n",
       "    }\n",
       "\n",
       "    .dataframe thead th {\n",
       "        text-align: right;\n",
       "    }\n",
       "</style>\n",
       "<table border=\"1\" class=\"dataframe\">\n",
       "  <thead>\n",
       "    <tr style=\"text-align: right;\">\n",
       "      <th></th>\n",
       "      <th>TOTALQUANTITY</th>\n",
       "      <th>Main_Plates_Sale</th>\n",
       "      <th>Salads_&amp;_Powerbowls_Sale</th>\n",
       "      <th>Salads_Sale</th>\n",
       "      <th>Beverages_Sale</th>\n",
       "      <th>Mixed_Drinks_Sale</th>\n",
       "      <th>Pastas_Sale</th>\n",
       "      <th>Soups_Sale</th>\n",
       "      <th>Beer_Sale</th>\n",
       "      <th>Spirits_Sale</th>\n",
       "      <th>...</th>\n",
       "      <th>Lunch_Duos_Sale</th>\n",
       "      <th>Combo_Boxes_Sale</th>\n",
       "      <th>Desserts_Sale</th>\n",
       "      <th>Kids_Sale</th>\n",
       "      <th>Sandwiches_Sale</th>\n",
       "      <th>TOTAL_DISCOUNT</th>\n",
       "      <th>%_Alcohol_of_Bill</th>\n",
       "      <th>GUEST_COUNT</th>\n",
       "      <th>DISTANCE_TO_CLOSESTSTORE</th>\n",
       "      <th>SECONDVISITFLAG</th>\n",
       "    </tr>\n",
       "  </thead>\n",
       "  <tbody>\n",
       "    <tr>\n",
       "      <th>0</th>\n",
       "      <td>17</td>\n",
       "      <td>0.0</td>\n",
       "      <td>0.0</td>\n",
       "      <td>26.28</td>\n",
       "      <td>0.0</td>\n",
       "      <td>0.0</td>\n",
       "      <td>0.00</td>\n",
       "      <td>6.99</td>\n",
       "      <td>0.0</td>\n",
       "      <td>0.0</td>\n",
       "      <td>...</td>\n",
       "      <td>22.90</td>\n",
       "      <td>0.0</td>\n",
       "      <td>0.00</td>\n",
       "      <td>0.0</td>\n",
       "      <td>0.0</td>\n",
       "      <td>0.00</td>\n",
       "      <td>0.0</td>\n",
       "      <td>6</td>\n",
       "      <td>4.468420</td>\n",
       "      <td>N</td>\n",
       "    </tr>\n",
       "    <tr>\n",
       "      <th>1</th>\n",
       "      <td>2</td>\n",
       "      <td>0.0</td>\n",
       "      <td>0.0</td>\n",
       "      <td>0.00</td>\n",
       "      <td>0.0</td>\n",
       "      <td>0.0</td>\n",
       "      <td>0.00</td>\n",
       "      <td>0.00</td>\n",
       "      <td>0.0</td>\n",
       "      <td>0.0</td>\n",
       "      <td>...</td>\n",
       "      <td>0.00</td>\n",
       "      <td>0.0</td>\n",
       "      <td>0.00</td>\n",
       "      <td>0.0</td>\n",
       "      <td>0.0</td>\n",
       "      <td>10.00</td>\n",
       "      <td>0.0</td>\n",
       "      <td>1</td>\n",
       "      <td>4.468420</td>\n",
       "      <td>N</td>\n",
       "    </tr>\n",
       "    <tr>\n",
       "      <th>2</th>\n",
       "      <td>3</td>\n",
       "      <td>0.0</td>\n",
       "      <td>0.0</td>\n",
       "      <td>0.00</td>\n",
       "      <td>0.0</td>\n",
       "      <td>0.0</td>\n",
       "      <td>0.00</td>\n",
       "      <td>0.00</td>\n",
       "      <td>0.0</td>\n",
       "      <td>0.0</td>\n",
       "      <td>...</td>\n",
       "      <td>0.00</td>\n",
       "      <td>0.0</td>\n",
       "      <td>0.00</td>\n",
       "      <td>0.0</td>\n",
       "      <td>0.0</td>\n",
       "      <td>0.00</td>\n",
       "      <td>0.0</td>\n",
       "      <td>1</td>\n",
       "      <td>4.468420</td>\n",
       "      <td>N</td>\n",
       "    </tr>\n",
       "    <tr>\n",
       "      <th>3</th>\n",
       "      <td>3</td>\n",
       "      <td>0.0</td>\n",
       "      <td>0.0</td>\n",
       "      <td>0.00</td>\n",
       "      <td>0.0</td>\n",
       "      <td>0.0</td>\n",
       "      <td>0.00</td>\n",
       "      <td>0.00</td>\n",
       "      <td>0.0</td>\n",
       "      <td>0.0</td>\n",
       "      <td>...</td>\n",
       "      <td>0.00</td>\n",
       "      <td>0.0</td>\n",
       "      <td>6.29</td>\n",
       "      <td>0.0</td>\n",
       "      <td>0.0</td>\n",
       "      <td>0.00</td>\n",
       "      <td>0.0</td>\n",
       "      <td>1</td>\n",
       "      <td>1.531161</td>\n",
       "      <td>N</td>\n",
       "    </tr>\n",
       "    <tr>\n",
       "      <th>4</th>\n",
       "      <td>1</td>\n",
       "      <td>0.0</td>\n",
       "      <td>0.0</td>\n",
       "      <td>0.00</td>\n",
       "      <td>0.0</td>\n",
       "      <td>0.0</td>\n",
       "      <td>0.00</td>\n",
       "      <td>0.00</td>\n",
       "      <td>0.0</td>\n",
       "      <td>0.0</td>\n",
       "      <td>...</td>\n",
       "      <td>0.00</td>\n",
       "      <td>0.0</td>\n",
       "      <td>0.00</td>\n",
       "      <td>0.0</td>\n",
       "      <td>0.0</td>\n",
       "      <td>0.00</td>\n",
       "      <td>0.0</td>\n",
       "      <td>1</td>\n",
       "      <td>1.531161</td>\n",
       "      <td>N</td>\n",
       "    </tr>\n",
       "    <tr>\n",
       "      <th>...</th>\n",
       "      <td>...</td>\n",
       "      <td>...</td>\n",
       "      <td>...</td>\n",
       "      <td>...</td>\n",
       "      <td>...</td>\n",
       "      <td>...</td>\n",
       "      <td>...</td>\n",
       "      <td>...</td>\n",
       "      <td>...</td>\n",
       "      <td>...</td>\n",
       "      <td>...</td>\n",
       "      <td>...</td>\n",
       "      <td>...</td>\n",
       "      <td>...</td>\n",
       "      <td>...</td>\n",
       "      <td>...</td>\n",
       "      <td>...</td>\n",
       "      <td>...</td>\n",
       "      <td>...</td>\n",
       "      <td>...</td>\n",
       "      <td>...</td>\n",
       "    </tr>\n",
       "    <tr>\n",
       "      <th>239741</th>\n",
       "      <td>1</td>\n",
       "      <td>0.0</td>\n",
       "      <td>0.0</td>\n",
       "      <td>0.00</td>\n",
       "      <td>0.0</td>\n",
       "      <td>0.0</td>\n",
       "      <td>0.00</td>\n",
       "      <td>0.00</td>\n",
       "      <td>0.0</td>\n",
       "      <td>0.0</td>\n",
       "      <td>...</td>\n",
       "      <td>0.00</td>\n",
       "      <td>0.0</td>\n",
       "      <td>0.00</td>\n",
       "      <td>0.0</td>\n",
       "      <td>0.0</td>\n",
       "      <td>5.00</td>\n",
       "      <td>0.0</td>\n",
       "      <td>1</td>\n",
       "      <td>3.549361</td>\n",
       "      <td>Y</td>\n",
       "    </tr>\n",
       "    <tr>\n",
       "      <th>239742</th>\n",
       "      <td>10</td>\n",
       "      <td>0.0</td>\n",
       "      <td>55.0</td>\n",
       "      <td>57.97</td>\n",
       "      <td>0.0</td>\n",
       "      <td>0.0</td>\n",
       "      <td>0.00</td>\n",
       "      <td>0.00</td>\n",
       "      <td>0.0</td>\n",
       "      <td>0.0</td>\n",
       "      <td>...</td>\n",
       "      <td>0.00</td>\n",
       "      <td>0.0</td>\n",
       "      <td>0.00</td>\n",
       "      <td>0.0</td>\n",
       "      <td>0.0</td>\n",
       "      <td>0.00</td>\n",
       "      <td>0.0</td>\n",
       "      <td>1</td>\n",
       "      <td>11.908136</td>\n",
       "      <td>Y</td>\n",
       "    </tr>\n",
       "    <tr>\n",
       "      <th>239743</th>\n",
       "      <td>5</td>\n",
       "      <td>0.0</td>\n",
       "      <td>0.0</td>\n",
       "      <td>0.00</td>\n",
       "      <td>0.0</td>\n",
       "      <td>0.0</td>\n",
       "      <td>9.12</td>\n",
       "      <td>0.00</td>\n",
       "      <td>0.0</td>\n",
       "      <td>0.0</td>\n",
       "      <td>...</td>\n",
       "      <td>0.00</td>\n",
       "      <td>0.0</td>\n",
       "      <td>0.00</td>\n",
       "      <td>0.0</td>\n",
       "      <td>0.0</td>\n",
       "      <td>31.40</td>\n",
       "      <td>0.0</td>\n",
       "      <td>1</td>\n",
       "      <td>6.669160</td>\n",
       "      <td>Y</td>\n",
       "    </tr>\n",
       "    <tr>\n",
       "      <th>239744</th>\n",
       "      <td>2</td>\n",
       "      <td>0.0</td>\n",
       "      <td>0.0</td>\n",
       "      <td>0.00</td>\n",
       "      <td>0.0</td>\n",
       "      <td>0.0</td>\n",
       "      <td>0.00</td>\n",
       "      <td>0.00</td>\n",
       "      <td>0.0</td>\n",
       "      <td>0.0</td>\n",
       "      <td>...</td>\n",
       "      <td>0.00</td>\n",
       "      <td>0.0</td>\n",
       "      <td>0.00</td>\n",
       "      <td>0.0</td>\n",
       "      <td>0.0</td>\n",
       "      <td>0.00</td>\n",
       "      <td>0.0</td>\n",
       "      <td>0</td>\n",
       "      <td>12.951460</td>\n",
       "      <td>Y</td>\n",
       "    </tr>\n",
       "    <tr>\n",
       "      <th>239745</th>\n",
       "      <td>4</td>\n",
       "      <td>0.0</td>\n",
       "      <td>0.0</td>\n",
       "      <td>0.00</td>\n",
       "      <td>0.0</td>\n",
       "      <td>0.0</td>\n",
       "      <td>0.00</td>\n",
       "      <td>0.00</td>\n",
       "      <td>0.0</td>\n",
       "      <td>0.0</td>\n",
       "      <td>...</td>\n",
       "      <td>16.09</td>\n",
       "      <td>0.0</td>\n",
       "      <td>0.00</td>\n",
       "      <td>0.0</td>\n",
       "      <td>0.0</td>\n",
       "      <td>10.19</td>\n",
       "      <td>0.0</td>\n",
       "      <td>1</td>\n",
       "      <td>5.747999</td>\n",
       "      <td>Y</td>\n",
       "    </tr>\n",
       "  </tbody>\n",
       "</table>\n",
       "<p>238561 rows × 27 columns</p>\n",
       "</div>"
      ],
      "text/plain": [
       "        TOTALQUANTITY  Main_Plates_Sale  Salads_&_Powerbowls_Sale  \\\n",
       "0                  17               0.0                       0.0   \n",
       "1                   2               0.0                       0.0   \n",
       "2                   3               0.0                       0.0   \n",
       "3                   3               0.0                       0.0   \n",
       "4                   1               0.0                       0.0   \n",
       "...               ...               ...                       ...   \n",
       "239741              1               0.0                       0.0   \n",
       "239742             10               0.0                      55.0   \n",
       "239743              5               0.0                       0.0   \n",
       "239744              2               0.0                       0.0   \n",
       "239745              4               0.0                       0.0   \n",
       "\n",
       "        Salads_Sale  Beverages_Sale  Mixed_Drinks_Sale  Pastas_Sale  \\\n",
       "0             26.28             0.0                0.0         0.00   \n",
       "1              0.00             0.0                0.0         0.00   \n",
       "2              0.00             0.0                0.0         0.00   \n",
       "3              0.00             0.0                0.0         0.00   \n",
       "4              0.00             0.0                0.0         0.00   \n",
       "...             ...             ...                ...          ...   \n",
       "239741         0.00             0.0                0.0         0.00   \n",
       "239742        57.97             0.0                0.0         0.00   \n",
       "239743         0.00             0.0                0.0         9.12   \n",
       "239744         0.00             0.0                0.0         0.00   \n",
       "239745         0.00             0.0                0.0         0.00   \n",
       "\n",
       "        Soups_Sale  Beer_Sale  Spirits_Sale  ...  Lunch_Duos_Sale  \\\n",
       "0             6.99        0.0           0.0  ...            22.90   \n",
       "1             0.00        0.0           0.0  ...             0.00   \n",
       "2             0.00        0.0           0.0  ...             0.00   \n",
       "3             0.00        0.0           0.0  ...             0.00   \n",
       "4             0.00        0.0           0.0  ...             0.00   \n",
       "...            ...        ...           ...  ...              ...   \n",
       "239741        0.00        0.0           0.0  ...             0.00   \n",
       "239742        0.00        0.0           0.0  ...             0.00   \n",
       "239743        0.00        0.0           0.0  ...             0.00   \n",
       "239744        0.00        0.0           0.0  ...             0.00   \n",
       "239745        0.00        0.0           0.0  ...            16.09   \n",
       "\n",
       "        Combo_Boxes_Sale  Desserts_Sale  Kids_Sale  Sandwiches_Sale  \\\n",
       "0                    0.0           0.00        0.0              0.0   \n",
       "1                    0.0           0.00        0.0              0.0   \n",
       "2                    0.0           0.00        0.0              0.0   \n",
       "3                    0.0           6.29        0.0              0.0   \n",
       "4                    0.0           0.00        0.0              0.0   \n",
       "...                  ...            ...        ...              ...   \n",
       "239741               0.0           0.00        0.0              0.0   \n",
       "239742               0.0           0.00        0.0              0.0   \n",
       "239743               0.0           0.00        0.0              0.0   \n",
       "239744               0.0           0.00        0.0              0.0   \n",
       "239745               0.0           0.00        0.0              0.0   \n",
       "\n",
       "        TOTAL_DISCOUNT  %_Alcohol_of_Bill  GUEST_COUNT  \\\n",
       "0                 0.00                0.0            6   \n",
       "1                10.00                0.0            1   \n",
       "2                 0.00                0.0            1   \n",
       "3                 0.00                0.0            1   \n",
       "4                 0.00                0.0            1   \n",
       "...                ...                ...          ...   \n",
       "239741            5.00                0.0            1   \n",
       "239742            0.00                0.0            1   \n",
       "239743           31.40                0.0            1   \n",
       "239744            0.00                0.0            0   \n",
       "239745           10.19                0.0            1   \n",
       "\n",
       "        DISTANCE_TO_CLOSESTSTORE  SECONDVISITFLAG  \n",
       "0                       4.468420                N  \n",
       "1                       4.468420                N  \n",
       "2                       4.468420                N  \n",
       "3                       1.531161                N  \n",
       "4                       1.531161                N  \n",
       "...                          ...              ...  \n",
       "239741                  3.549361                Y  \n",
       "239742                 11.908136                Y  \n",
       "239743                  6.669160                Y  \n",
       "239744                 12.951460                Y  \n",
       "239745                  5.747999                Y  \n",
       "\n",
       "[238561 rows x 27 columns]"
      ]
     },
     "execution_count": 14,
     "metadata": {},
     "output_type": "execute_result"
    }
   ],
   "source": [
    "data_new"
   ]
  },
  {
   "cell_type": "code",
   "execution_count": 15,
   "id": "0b68313a",
   "metadata": {},
   "outputs": [
    {
     "data": {
      "text/plain": [
       "TOTALQUANTITY               0\n",
       "Main_Plates_Sale            0\n",
       "Salads_&_Powerbowls_Sale    0\n",
       "Salads_Sale                 0\n",
       "Beverages_Sale              0\n",
       "Mixed_Drinks_Sale           0\n",
       "Pastas_Sale                 0\n",
       "Soups_Sale                  0\n",
       "Beer_Sale                   0\n",
       "Spirits_Sale                0\n",
       "Wine_Sale                   0\n",
       "Mains_Sale                  0\n",
       "Pizza_Sale                  0\n",
       "NABs_Sale                   0\n",
       "Specialty_Sale              0\n",
       "Appetizers_Sale             0\n",
       "Small_Plates_Sale           0\n",
       "Lunch_Duos_Sale             0\n",
       "Combo_Boxes_Sale            0\n",
       "Desserts_Sale               0\n",
       "Kids_Sale                   0\n",
       "Sandwiches_Sale             0\n",
       "TOTAL_DISCOUNT              0\n",
       "%_Alcohol_of_Bill           0\n",
       "GUEST_COUNT                 0\n",
       "DISTANCE_TO_CLOSESTSTORE    0\n",
       "SECONDVISITFLAG             0\n",
       "dtype: int64"
      ]
     },
     "execution_count": 15,
     "metadata": {},
     "output_type": "execute_result"
    }
   ],
   "source": [
    "#after removing null values\n",
    "data_new.isnull().sum()"
   ]
  },
  {
   "cell_type": "code",
   "execution_count": 16,
   "id": "d7890c0c",
   "metadata": {},
   "outputs": [
    {
     "data": {
      "text/plain": [
       "18941"
      ]
     },
     "execution_count": 16,
     "metadata": {},
     "output_type": "execute_result"
    }
   ],
   "source": [
    "#finfing the duplicates values\n",
    "data_new.duplicated().sum()"
   ]
  },
  {
   "cell_type": "code",
   "execution_count": 17,
   "id": "47816b7e",
   "metadata": {},
   "outputs": [
    {
     "name": "stderr",
     "output_type": "stream",
     "text": [
      "C:\\Users\\Admin\\AppData\\Local\\Temp/ipykernel_13700/2467816950.py:1: FutureWarning: Dropping of nuisance columns in DataFrame reductions (with 'numeric_only=None') is deprecated; in a future version this will raise TypeError.  Select only valid columns before calling the reduction.\n",
      "  data_new.kurtosis()\n"
     ]
    },
    {
     "data": {
      "text/plain": [
       "TOTALQUANTITY                 593.310286\n",
       "Main_Plates_Sale               59.876691\n",
       "Salads_&_Powerbowls_Sale     2766.625302\n",
       "Salads_Sale                  3191.118246\n",
       "Beverages_Sale               4895.025769\n",
       "Mixed_Drinks_Sale              60.489936\n",
       "Pastas_Sale                  1654.641172\n",
       "Soups_Sale                    139.436426\n",
       "Beer_Sale                     239.536594\n",
       "Spirits_Sale                  807.241894\n",
       "Wine_Sale                     112.469869\n",
       "Mains_Sale                  17141.192710\n",
       "Pizza_Sale                    770.893369\n",
       "NABs_Sale                      51.373684\n",
       "Specialty_Sale               8459.585455\n",
       "Appetizers_Sale               130.283786\n",
       "Small_Plates_Sale             917.718201\n",
       "Lunch_Duos_Sale               511.217286\n",
       "Combo_Boxes_Sale             6694.389265\n",
       "Desserts_Sale                 566.038589\n",
       "Kids_Sale                    5863.934749\n",
       "Sandwiches_Sale              6592.945743\n",
       "TOTAL_DISCOUNT                340.401123\n",
       "%_Alcohol_of_Bill              15.962611\n",
       "GUEST_COUNT                  2870.689904\n",
       "DISTANCE_TO_CLOSESTSTORE       18.168355\n",
       "dtype: float64"
      ]
     },
     "execution_count": 17,
     "metadata": {},
     "output_type": "execute_result"
    }
   ],
   "source": [
    "data_new.kurtosis()"
   ]
  },
  {
   "cell_type": "code",
   "execution_count": 18,
   "id": "ffa6c22e",
   "metadata": {},
   "outputs": [
    {
     "name": "stderr",
     "output_type": "stream",
     "text": [
      "C:\\Users\\Admin\\AppData\\Local\\Temp/ipykernel_13700/2944107810.py:1: FutureWarning: Dropping of nuisance columns in DataFrame reductions (with 'numeric_only=None') is deprecated; in a future version this will raise TypeError.  Select only valid columns before calling the reduction.\n",
      "  data_new.skew()\n"
     ]
    },
    {
     "data": {
      "text/plain": [
       "TOTALQUANTITY                11.994554\n",
       "Main_Plates_Sale              5.480368\n",
       "Salads_&_Powerbowls_Sale     37.326987\n",
       "Salads_Sale                  23.442756\n",
       "Beverages_Sale               49.580917\n",
       "Mixed_Drinks_Sale             5.603769\n",
       "Pastas_Sale                  19.492216\n",
       "Soups_Sale                    7.280322\n",
       "Beer_Sale                    10.003684\n",
       "Spirits_Sale                 22.750118\n",
       "Wine_Sale                     8.978614\n",
       "Mains_Sale                  108.374499\n",
       "Pizza_Sale                   13.966404\n",
       "NABs_Sale                     4.090136\n",
       "Specialty_Sale               60.245467\n",
       "Appetizers_Sale               6.303356\n",
       "Small_Plates_Sale            11.544174\n",
       "Lunch_Duos_Sale              12.219448\n",
       "Combo_Boxes_Sale             63.694164\n",
       "Desserts_Sale                13.926759\n",
       "Kids_Sale                    67.162915\n",
       "Sandwiches_Sale              60.017177\n",
       "TOTAL_DISCOUNT                9.529681\n",
       "%_Alcohol_of_Bill             3.679571\n",
       "GUEST_COUNT                  21.063529\n",
       "DISTANCE_TO_CLOSESTSTORE      4.251888\n",
       "dtype: float64"
      ]
     },
     "execution_count": 18,
     "metadata": {},
     "output_type": "execute_result"
    }
   ],
   "source": [
    "data_new.skew()"
   ]
  },
  {
   "cell_type": "markdown",
   "id": "7b247cd5",
   "metadata": {},
   "source": [
    "# step 2: EDA(Explorotery Data Analysis)"
   ]
  },
  {
   "cell_type": "markdown",
   "id": "e60d6715",
   "metadata": {},
   "source": [
    "# Column Description\n",
    "1.Customer_ID: Unique identifier for each customer. This is often used to track individual customers' purchases and behaviors.\n",
    "\n",
    "2.TOTALQUANTITY: The total quantity of items purchased. This can help assess overall purchase volume.This column aggregates the quantities of all types of items bought in a single purchase.\n",
    "\n",
    "3.Main_Plates_Sale: Revenue from sales of main plates. This represents sales data specifically for main course dishes.likely in dollars\n",
    "\n",
    "4.Salads_&_Powerbowls_Sale: Revenue from sales of salads and power bowls. This indicates the sales of these particular items.likely in dollars\n",
    "\n",
    "5.Salads_Sale: Revenue from sales of salads. This is likely a subset of Salads_&_Powerbowls_Sale.likely in dollars\n",
    "\n",
    "6.Beverages_Sale: Revenue from sales of beverages. This includes all drink sales.likely in dollars\n",
    "\n",
    "7.Mixed_Drinks_Sale: Revenue from sales of mixed drinks. This is a specific category of beverages.likely in dollars\n",
    "\n",
    "8.Pastas_Sale: Revenue from sales of pasta dishes.likely in dollars\n",
    "\n",
    "9.Soups_Sale: Revenue from sales of soups.likely in dollars\n",
    "\n",
    "10.Beer_Sale: Revenue from sales of beer.likely in dollars\n",
    "\n",
    "11Spirits_Sale: Revenue from sales of spirits (e.g., vodka, whiskey).likely in dollars\n",
    "\n",
    "12.Wine_Sale: Revenue from sales of wine.likely in dollars\n",
    "\n",
    "13.Mains_Sale: Revenue from sales of main dishes. This might overlap with Main_Plates_Sale.likely in dollars\n",
    "\n",
    "14.Pizza_Sale: Revenue from sales of pizza.likely in dollars\n",
    "\n",
    "15.NABs_Sale: Revenue from sales of NABs (Non-Alcoholic Beverages). If NABs are not specifically defined, this typically means beverages that do not contain alcohol.likely in dollars\n",
    "\n",
    "16.Specialty_Sale: Revenue from sales of specialty items. This could include unique or high-margin items.likely in dollars\n",
    "\n",
    "17.Appetizers_Sale: Revenue from sales of appetizers.likely in dollars\n",
    "\n",
    "18.Small_Plates_Sale: Revenue from sales of small plates or tapas-style dishes.likely in dollars\n",
    "\n",
    "19.Lunch_Duos_Sale: Revenue from sales of lunch duo combinations. These might be special menu items or combos.likely in dollars\n",
    "\n",
    "20.Combo_Boxes_Sale: Revenue from sales of combo boxes, which might include a mix of various items at a set price.likely in dollars\n",
    "\n",
    "21.Desserts_Sale: Revenue from sales of desserts.likely in dollars\n",
    "\n",
    "22.Kids_Sale: Revenue from sales of kids' meals.likely in dollars\n",
    "\n",
    "23.Sandwiches_Sale: Revenue from sales of sandwiches.likely in dollars\n",
    "\n",
    "24.TOTAL_DISCOUNT: Total discount applied to the order. This helps assess the impact of discounts on sales.likely in dollars\n",
    "\n",
    "25.%_Alcohol_of_Bill: Percentage of the total bill that is attributed to alcoholic beverages.float %\n",
    "\n",
    "26.GUEST_COUNT: Number of guests or people at the table. This can help understand average spending per guest.int\n",
    "\n",
    "27.DISTANCE_TO_CLOSESTSTORE: Distance from the customer to the closest store. This might be used to analyze customer proximity and its impact on sales.miles or km\n",
    "\n",
    "28.SECONDVISITFLAG: A flag indicating whether this is a second visit by the customer. This could be a binary value (e.g., 0 for first visit, 1 for second visit) and helps in analyzing repeat customer behavior.object."
   ]
  },
  {
   "cell_type": "markdown",
   "id": "b19231b2",
   "metadata": {},
   "source": [
    "# 1.What percentage of transactions are second visits?"
   ]
  },
  {
   "cell_type": "code",
   "execution_count": 73,
   "id": "24198e8d",
   "metadata": {},
   "outputs": [
    {
     "name": "stdout",
     "output_type": "stream",
     "text": [
      "Before resampling:  \n",
      " 0    213665\n",
      "1     24896\n",
      "Name: SECONDVISITFLAG, dtype: int64\n"
     ]
    }
   ],
   "source": [
    "#before resampling the value_counts of secondvisit are:\n",
    "repeat_visit=data_new['SECONDVISITFLAG'].value_counts()\n",
    "print('Before resampling: ','\\n',repeat_visit)"
   ]
  },
  {
   "cell_type": "code",
   "execution_count": 20,
   "id": "e79c03d3",
   "metadata": {},
   "outputs": [
    {
     "data": {
      "image/png": "[encoded data removed]",
      "text/plain": [
       "<Figure size 720x432 with 1 Axes>"
      ]
     },
     "metadata": {},
     "output_type": "display_data"
    }
   ],
   "source": [
    "plt.figure(figsize=(10,6))\n",
    "repeat_visit=data_new['SECONDVISITFLAG'].value_counts()\n",
    "plt.pie(repeat_visit,labels=repeat_visit.index,autopct='%1.1f%%',shadow=True)\n",
    "plt.title('Distribution of second vsit flag')\n",
    "plt.show()"
   ]
  },
  {
   "cell_type": "markdown",
   "id": "75a8b169",
   "metadata": {},
   "source": [
    "From the above pie chart, we conclude that the percentage of transactions during the second visit is less than 10.4%, compared to those who only visit for the first time, which is 89.6%."
   ]
  },
  {
   "cell_type": "markdown",
   "id": "46ffa150",
   "metadata": {},
   "source": [
    "# 2.How does customer behavior differ between first and second visits?"
   ]
  },
  {
   "cell_type": "markdown",
   "id": "8995f3a4",
   "metadata": {},
   "source": [
    "# a.Compare Total Quantity Purchased vs Second Visit"
   ]
  },
  {
   "cell_type": "code",
   "execution_count": 21,
   "id": "90d0d387",
   "metadata": {},
   "outputs": [
    {
     "data": {
      "image/png": "[encoded data removed]",
      "text/plain": [
       "<Figure size 720x432 with 1 Axes>"
      ]
     },
     "metadata": {
      "needs_background": "light"
     },
     "output_type": "display_data"
    }
   ],
   "source": [
    "plt.figure(figsize=(10, 6))\n",
    "palette={'Y':'green','N':'purple'}\n",
    "sns.boxplot(x='SECONDVISITFLAG', y='TOTALQUANTITY', data=data_new,palette=palette)\n",
    "plt.title(' Total Quantity Purchased: First vs Second Visit')\n",
    "plt.xlabel('Second Visit Flag (N: First Visit, Y: Second Visit)')\n",
    "plt.ylabel(' Total Quantity Purchased')\n",
    "plt.show()\n"
   ]
  },
  {
   "cell_type": "markdown",
   "id": "6dfc30de",
   "metadata": {},
   "source": [
    "The box plot shows that the total quantity of items purchased on the first visit (indicated by 'N') can be as high as 400, while the total quantity purchased on the second visit (indicated by 'Y') is significantly lower, with a maximum around 50. This suggests that customers tend to purchase more items during their first visit compared to their second visit"
   ]
  },
  {
   "cell_type": "markdown",
   "id": "74db006a",
   "metadata": {},
   "source": [
    "# b. Compare Average Spending per Customer"
   ]
  },
  {
   "cell_type": "code",
   "execution_count": 22,
   "id": "d29cad5a",
   "metadata": {},
   "outputs": [],
   "source": [
    "col_sales=['Main_Plates_Sale',\n",
    "       'Salads_&_Powerbowls_Sale', 'Salads_Sale', 'Beverages_Sale',\n",
    "       'Mixed_Drinks_Sale', 'Pastas_Sale', 'Soups_Sale', 'Beer_Sale',\n",
    "       'Spirits_Sale', 'Wine_Sale', 'Mains_Sale', 'Pizza_Sale', 'NABs_Sale',\n",
    "       'Specialty_Sale', 'Appetizers_Sale', 'Small_Plates_Sale',\n",
    "       'Lunch_Duos_Sale', 'Combo_Boxes_Sale', 'Desserts_Sale', 'Kids_Sale',\n",
    "       'Sandwiches_Sale']\n",
    "data_new['Total_Sales']=data_new[col_sales].sum(axis=1)\n"
   ]
  },
  {
   "cell_type": "code",
   "execution_count": 23,
   "id": "2952033e",
   "metadata": {},
   "outputs": [
    {
     "data": {
      "text/plain": [
       "21"
      ]
     },
     "execution_count": 23,
     "metadata": {},
     "output_type": "execute_result"
    }
   ],
   "source": [
    "len(col_sales)"
   ]
  },
  {
   "cell_type": "code",
   "execution_count": 24,
   "id": "02fd4f20",
   "metadata": {},
   "outputs": [
    {
     "data": {
      "image/png": "[encoded data removed]",
      "text/plain": [
       "<Figure size 720x432 with 1 Axes>"
      ]
     },
     "metadata": {
      "needs_background": "light"
     },
     "output_type": "display_data"
    }
   ],
   "source": [
    "plt.figure(figsize=(10,6))\n",
    "palette={'Y':'yellow','N':'green'}\n",
    "avg_sales=data_new.groupby('SECONDVISITFLAG')['Total_Sales'].mean().reset_index()\n",
    "#plt.barh(avg_sales['SECONDVISITFLAG'],avg_sales['Total_Sales'])\n",
    "sns.barplot(x='SECONDVISITFLAG',y='Total_Sales',data=avg_sales,palette=palette)\n",
    "plt.title('Average Spending per Customer: First vs Second Visit')\n",
    "plt.show()"
   ]
  },
  {
   "cell_type": "markdown",
   "id": "f8cafe79",
   "metadata": {},
   "source": [
    "The bar plot shows that average spending per customer is higher during the first visit, exceeding 40 units, compared to repeat visits, which are below 40 units"
   ]
  },
  {
   "cell_type": "markdown",
   "id": "4d6019e4",
   "metadata": {},
   "source": [
    "# c: Compare Item Categories Purchased"
   ]
  },
  {
   "cell_type": "code",
   "execution_count": 25,
   "id": "33b8b23e",
   "metadata": {},
   "outputs": [
    {
     "data": {
      "image/png": "[encoded data removed]",
      "text/plain": [
       "<Figure size 1440x1080 with 21 Axes>"
      ]
     },
     "metadata": {
      "needs_background": "light"
     },
     "output_type": "display_data"
    }
   ],
   "source": [
    "plt.figure(figsize=(20, 15))\n",
    "col_sales = [\n",
    "    'Main_Plates_Sale', 'Salads_&_Powerbowls_Sale', 'Salads_Sale', \n",
    "    'Beverages_Sale', 'Mixed_Drinks_Sale', 'Pastas_Sale', 'Soups_Sale', \n",
    "    'Beer_Sale', 'Spirits_Sale', 'Wine_Sale', 'Mains_Sale', 'Pizza_Sale', \n",
    "    'NABs_Sale', 'Specialty_Sale', 'Appetizers_Sale', 'Small_Plates_Sale', \n",
    "    'Lunch_Duos_Sale', 'Combo_Boxes_Sale', 'Desserts_Sale', 'Kids_Sale', \n",
    "    'Sandwiches_Sale'\n",
    "]\n",
    "\n",
    "plot_num = 1\n",
    "for col in col_sales:\n",
    "    if plot_num <= 21:\n",
    "        ax=plt.subplot(3, 7, plot_num)\n",
    "        sns.barplot(x='SECONDVISITFLAG', y=col, data=data_new)\n",
    "        plt.title(f'{col} vs Second Visit')\n",
    "        plot_num += 1\n",
    "plt.tight_layout()\n",
    "plt.show()"
   ]
  },
  {
   "cell_type": "markdown",
   "id": "3f0366fc",
   "metadata": {},
   "source": [
    "The bar plots illustrate the differences in sales for various item categories (e.g., Main Plates, Salads, Beverages) between first-time visitors and repeat customers."
   ]
  },
  {
   "cell_type": "markdown",
   "id": "b5fab782",
   "metadata": {},
   "source": [
    "# 3.What is the average total quantity of items purchased per transaction?"
   ]
  },
  {
   "cell_type": "code",
   "execution_count": 26,
   "id": "c66b1be8",
   "metadata": {},
   "outputs": [
    {
     "name": "stderr",
     "output_type": "stream",
     "text": [
      "C:\\Users\\Admin\\anaconda3\\lib\\site-packages\\seaborn\\_decorators.py:36: FutureWarning: Pass the following variable as a keyword arg: x. From version 0.12, the only valid positional argument will be `data`, and passing other arguments without an explicit keyword will result in an error or misinterpretation.\n",
      "  warnings.warn(\n"
     ]
    },
    {
     "data": {
      "image/png": "[encoded data removed]",
      "text/plain": [
       "<Figure size 720x432 with 1 Axes>"
      ]
     },
     "metadata": {
      "needs_background": "light"
     },
     "output_type": "display_data"
    }
   ],
   "source": [
    "plt.figure(figsize=(10,6))\n",
    "avg_total_quantity=data_new['TOTALQUANTITY'].mean()\n",
    "sns.violinplot(data_new['TOTALQUANTITY'],color='purple')\n",
    "plt.title('Violin Plot of Total Quantity of Items Purchased per Transaction')\n",
    "\n",
    "plt.show()"
   ]
  },
  {
   "cell_type": "markdown",
   "id": "19a96c22",
   "metadata": {},
   "source": [
    "It's a clear peak, it indicates that many transactions have a similar total quantity of items.\n"
   ]
  },
  {
   "cell_type": "markdown",
   "id": "f2833f07",
   "metadata": {},
   "source": [
    "# 4.What is the total revenue from main plates?"
   ]
  },
  {
   "cell_type": "code",
   "execution_count": 27,
   "id": "a68c059f",
   "metadata": {},
   "outputs": [
    {
     "data": {
      "image/png": "[encoded data removed]",
      "text/plain": [
       "<Figure size 720x432 with 1 Axes>"
      ]
     },
     "metadata": {
      "needs_background": "light"
     },
     "output_type": "display_data"
    }
   ],
   "source": [
    "data_new['Main_Plate_Revenue']=data_new['Main_Plates_Sale']*data_new['TOTALQUANTITY']\n",
    "total_revenue=data_new['Main_Plate_Revenue'].sum()\n",
    "# Create a summary DataFrame\n",
    "summary_df = pd.DataFrame({\n",
    "    'Category': ['Main_Plates_Sale'],\n",
    "    'Total_Revenue': [total_revenue]\n",
    "})\n",
    "\n",
    "# Plot the total revenue from main plates\n",
    "plt.figure(figsize=(10, 6))\n",
    "sns.barplot(x='Category', y='Total_Revenue', data=summary_df, palette='viridis')\n",
    "\n",
    "# Add title and labels\n",
    "plt.title('Total Revenue from Main Plates')\n",
    "plt.ylabel('Revenue ($)')\n",
    "plt.xlabel('Category')\n",
    "\n",
    "# Show the plot\n",
    "plt.show()\n"
   ]
  },
  {
   "cell_type": "markdown",
   "id": "4319406f",
   "metadata": {},
   "source": [
    "The plot indicates that main plates have generated substantial revenue. Given that the total revenue is around 5.5 million dollars, it is clear that main plates are a significant contributor to overall sales.the total revenue from main plates sales, showing that this category alone has generated a significant amount of revenue"
   ]
  },
  {
   "cell_type": "markdown",
   "id": "4dbf4d8e",
   "metadata": {},
   "source": [
    "# 6.What percentage of total sales is from salads?\n"
   ]
  },
  {
   "cell_type": "code",
   "execution_count": 28,
   "id": "263dc4d9",
   "metadata": {},
   "outputs": [
    {
     "data": {
      "image/png": "[encoded data removed]",
      "text/plain": [
       "<Figure size 432x288 with 1 Axes>"
      ]
     },
     "metadata": {},
     "output_type": "display_data"
    }
   ],
   "source": [
    "total_sales=data_new['Total_Sales'].sum()\n",
    "total_salad=data_new['Salads_Sale'].sum()\n",
    "pect_salad_sales=(total_salad/total_sales)*100\n",
    "labels=['Salads_Sale','Salads_&_Powerbowls_Sale']\n",
    "sizes=[total_salad,total_sales-total_salad]\n",
    "colors = ['#ff9999','#66b3ff']\n",
    "explode = (0.1, 0)\n",
    "\n",
    "plt.pie(sizes,labels=labels,colors=colors,explode=explode,autopct='%1.1f%%', shadow=True)\n",
    "plt.title('Percentage of Total Sales from Salads')\n",
    "plt.show()"
   ]
  },
  {
   "cell_type": "markdown",
   "id": "056c86ef",
   "metadata": {},
   "source": [
    " The pie chart shows that a smaller portion of the total sales comes from salads (12.8%), whereas the majority of sales (87.2%) come from other categories.\n"
   ]
  },
  {
   "cell_type": "markdown",
   "id": "4c182929",
   "metadata": {},
   "source": [
    "# 7.What are the top-selling beverages?"
   ]
  },
  {
   "cell_type": "code",
   "execution_count": 29,
   "id": "58cd1aef",
   "metadata": {},
   "outputs": [
    {
     "data": {
      "image/png": "[encoded data removed]",
      "text/plain": [
       "<Figure size 792x576 with 1 Axes>"
      ]
     },
     "metadata": {
      "needs_background": "light"
     },
     "output_type": "display_data"
    }
   ],
   "source": [
    "top_selling_beverages=data_new[['Beverages_Sale','Mixed_Drinks_Sale','Beer_Sale','Wine_Sale','Spirits_Sale']].sum().sort_values(ascending=False)\n",
    "# Plot\n",
    "plt.figure(figsize=(11, 8))\n",
    "\n",
    "top_selling_beverages.plot(kind='bar', color='purple')\n",
    "plt.title('Top-Selling Beverages')\n",
    "plt.xlabel('Beverage')\n",
    "plt.ylabel('Total Sales')\n",
    "plt.xticks(rotation=45)\n",
    "plt.tight_layout()\n",
    "plt.show()"
   ]
  },
  {
   "cell_type": "markdown",
   "id": "ca57ff9a",
   "metadata": {},
   "source": [
    "the plot indicates that the top-selling beverage is Mixed_Drinks_Sale , which has the highest total sales, exceeding 400,000. This surpasses other beverages such as Wine_Sale, Beer_Sale, Spirits_Sale and Beverages_Sale"
   ]
  },
  {
   "cell_type": "markdown",
   "id": "03c5dc91",
   "metadata": {},
   "source": [
    "# 8. How do beverage sales correlate with the total bill?"
   ]
  },
  {
   "cell_type": "code",
   "execution_count": 30,
   "id": "4cc2fae9",
   "metadata": {},
   "outputs": [
    {
     "name": "stdout",
     "output_type": "stream",
     "text": [
      "correlation of beverage and total sales are: 0.27604118159176666\n"
     ]
    }
   ],
   "source": [
    "correlation=data_new['Beverages_Sale'].corr(data_new['Total_Sales'])\n",
    "print(f'correlation of beverage and total sales are: {correlation}')"
   ]
  },
  {
   "cell_type": "code",
   "execution_count": 31,
   "id": "a6cb8bc5",
   "metadata": {},
   "outputs": [
    {
     "data": {
      "image/png": "[encoded data removed]",
      "text/plain": [
       "<Figure size 720x432 with 1 Axes>"
      ]
     },
     "metadata": {
      "needs_background": "light"
     },
     "output_type": "display_data"
    }
   ],
   "source": [
    "plt.figure(figsize=(10, 6))\n",
    "sns.regplot(x='Beverages_Sale', y='Total_Sales', data=data_new)\n",
    "plt.title('Regression Plot of Beverages Sale vs Total Sales')\n",
    "plt.xlabel('Beverages Sale')\n",
    "plt.ylabel('Total Sales')\n",
    "plt.show()"
   ]
  },
  {
   "cell_type": "markdown",
   "id": "f5abcd65",
   "metadata": {},
   "source": [
    "The plot shows a positive correlation between beverage sales and total sales.\n",
    "\n",
    "A correlation coefficient of 0.276 indicates a weak positive relationship between beverage sales and total sales, meaning that as beverage sales increase, total sales tend to increase slightly, but the relationship is not very strong."
   ]
  },
  {
   "cell_type": "markdown",
   "id": "7d5fba4a",
   "metadata": {},
   "source": [
    "# 9.What is the distribution of pasta sales across different stores?"
   ]
  },
  {
   "cell_type": "code",
   "execution_count": 32,
   "id": "d3b74d30",
   "metadata": {},
   "outputs": [
    {
     "data": {
      "image/png": "[encoded data removed]",
      "text/plain": [
       "<Figure size 864x576 with 1 Axes>"
      ]
     },
     "metadata": {
      "needs_background": "light"
     },
     "output_type": "display_data"
    }
   ],
   "source": [
    "pasta_sale_dist=data_new.groupby('DISTANCE_TO_CLOSESTSTORE')['Pastas_Sale'].sum().reset_index().head(20)\n",
    "plt.figure(figsize=(12,8))\n",
    "sns.barplot(x='DISTANCE_TO_CLOSESTSTORE',y='Pastas_Sale',data=pasta_sale_dist)\n",
    "plt.title(\"Distribution of Pasta Sales across different Stores\")\n",
    "plt.show()"
   ]
  },
  {
   "cell_type": "markdown",
   "id": "96576426",
   "metadata": {},
   "source": [
    "Pasta sales vary significantly across different distances to the closest store, with certain distances showing notably higher sales ."
   ]
  },
  {
   "cell_type": "markdown",
   "id": "7a2c0f1d",
   "metadata": {},
   "source": [
    "# 10.How do NAB sales compare to alcoholic beverage sales?"
   ]
  },
  {
   "cell_type": "code",
   "execution_count": 33,
   "id": "1136856b",
   "metadata": {},
   "outputs": [
    {
     "data": {
      "image/png": "[encoded data removed]",
      "text/plain": [
       "<Figure size 576x432 with 1 Axes>"
      ]
     },
     "metadata": {
      "needs_background": "light"
     },
     "output_type": "display_data"
    }
   ],
   "source": [
    "total_nab_sales=data_new['NABs_Sale'].sum()\n",
    "total_alcoholic_sales=data_new[['Beverages_Sale','Mixed_Drinks_Sale','Beer_Sale','Wine_Sale','Spirits_Sale','NABs_Sale']].sum().sum()\n",
    "# Data for plotting\n",
    "categories = ['NABs Sales', 'Alcoholic Beverage Sales']\n",
    "values = [total_nab_sales, total_alcoholic_sales]\n",
    "\n",
    "# Plot\n",
    "plt.figure(figsize=(8, 6))\n",
    "plt.bar(categories, values, color=['blue', 'red'])\n",
    "plt.title('Comparison of NAB Sales vs Alcoholic Beverage Sales')\n",
    "plt.ylabel('Total Sales')\n",
    "plt.show()\n"
   ]
  },
  {
   "cell_type": "code",
   "execution_count": 34,
   "id": "24590b35",
   "metadata": {},
   "outputs": [
    {
     "data": {
      "image/png": "[encoded data removed]",
      "text/plain": [
       "<Figure size 576x576 with 1 Axes>"
      ]
     },
     "metadata": {},
     "output_type": "display_data"
    }
   ],
   "source": [
    "# Data for plotting\n",
    "categories = ['Alcoholic Beverage Sales', 'NAB Sales']\n",
    "values = [total_alcoholic_sales, total_nab_sales]\n",
    "\n",
    "# Plot\n",
    "plt.figure(figsize=(8, 8))\n",
    "plt.pie(values, labels=categories, autopct='%1.1f%%', colors=['lightgreen', 'lightblue'],shadow=True,explode=(0.1,0))\n",
    "plt.title('Proportional Distribution of Sales')\n",
    "plt.show()\n"
   ]
  },
  {
   "cell_type": "markdown",
   "id": "f1f669f2",
   "metadata": {},
   "source": [
    " alcoholic beverage sales are approximately 69.9% greater than NAB sales. This indicates that alcoholic beverages contribute a significantly larger portion to the overall revenue compared to NABs."
   ]
  },
  {
   "cell_type": "markdown",
   "id": "cc0c4c7b",
   "metadata": {},
   "source": [
    "# 11.How do specialty item sales impact total revenue?"
   ]
  },
  {
   "cell_type": "code",
   "execution_count": 35,
   "id": "9e9b35eb",
   "metadata": {},
   "outputs": [
    {
     "name": "stdout",
     "output_type": "stream",
     "text": [
      "correlation of speciality_sales and total_sales are:0.45\n"
     ]
    },
    {
     "data": {
      "image/png": "[encoded data removed]",
      "text/plain": [
       "<Figure size 720x432 with 1 Axes>"
      ]
     },
     "metadata": {
      "needs_background": "light"
     },
     "output_type": "display_data"
    }
   ],
   "source": [
    "corr=data_new['Specialty_Sale'].corr(data_new['Total_Sales'])\n",
    "print(f'correlation of speciality_sales and total_sales are:{corr:.2f}')\n",
    "plt.figure(figsize=(10,6))\n",
    "sns.regplot(x='Specialty_Sale',y='Total_Sales',data=data_new)\n",
    "plt.title(\"Regression plot of Specialty_sales vs Total_sales\")\n",
    "plt.show()"
   ]
  },
  {
   "cell_type": "markdown",
   "id": "b7d48983",
   "metadata": {},
   "source": [
    "The moderate positive correlation of 0.45 between specialty item sales and total sales indicates that while specialty sales are positively associated with total sales, the relationship is not extremely strong.\n",
    "\n",
    "Specialty items contribute to total revenue, but other factors also play a significant role in determining overall sales performance"
   ]
  },
  {
   "cell_type": "markdown",
   "id": "4675db53",
   "metadata": {},
   "source": [
    "# 12.What are the top-selling main dishes?"
   ]
  },
  {
   "cell_type": "code",
   "execution_count": 36,
   "id": "693fafc6",
   "metadata": {},
   "outputs": [
    {
     "data": {
      "image/png": "[encoded data removed]",
      "text/plain": [
       "<Figure size 720x432 with 1 Axes>"
      ]
     },
     "metadata": {
      "needs_background": "light"
     },
     "output_type": "display_data"
    }
   ],
   "source": [
    "# Aggregate and sort sales for main dishes\n",
    "top_selling_main_dishes = data_new[['Pizza_Sale', 'Pastas_Sale', 'Sandwiches_Sale']].sum().sort_values(ascending=False)\n",
    "plt.figure(figsize=(10,6))\n",
    "top_selling_main_dishes.plot(kind='bar',color='lightgreen')\n",
    "\n",
    "plt.title('Top selling main dishes')\n",
    "plt.xlabel('Main dishes')\n",
    "plt.ylabel('Total Sales')\n",
    "plt.xticks(rotation=45)\n",
    "plt.show()"
   ]
  },
  {
   "cell_type": "markdown",
   "id": "540ca732",
   "metadata": {},
   "source": [
    "Pizza sales significantly outperform other main dishes in terms of total revenue. This indicates a strong customer preference for pizza or possibly higher pricing and sales volume compared to pasta and sandwiches."
   ]
  },
  {
   "cell_type": "markdown",
   "id": "1bb0fc53",
   "metadata": {},
   "source": [
    "# 13.How do main sales compare to Dessert sales?"
   ]
  },
  {
   "cell_type": "code",
   "execution_count": 37,
   "id": "bb305c06",
   "metadata": {},
   "outputs": [
    {
     "data": {
      "image/png": "[encoded data removed]",
      "text/plain": [
       "<Figure size 576x576 with 1 Axes>"
      ]
     },
     "metadata": {},
     "output_type": "display_data"
    }
   ],
   "source": [
    "total_main_sales=data_new['Mains_Sale'].sum()\n",
    "total_dessert_sales=data_new['Desserts_Sale'].sum()\n",
    "# Data for plotting\n",
    "categories = ['Desserts Sale', 'Mains Sales']\n",
    "values = [total_dessert_sales, total_main_sales]\n",
    "\n",
    "# Plot\n",
    "plt.figure(figsize=(8, 8))\n",
    "plt.pie(values, labels=categories, autopct='%1.1f%%', colors=['pink', 'yellow'],shadow=True,explode=(0.1,0))\n",
    "plt.title('Proportional Distribution of Sales')\n",
    "plt.show()"
   ]
  },
  {
   "cell_type": "markdown",
   "id": "46ad0763",
   "metadata": {},
   "source": [
    "Desserts Sales are approximately 90.5% greater than Main dishes sales. This indicates that Desserts Sales contribute a significantly larger portion to the overall revenue compared to Mian sales."
   ]
  },
  {
   "cell_type": "markdown",
   "id": "1c00836d",
   "metadata": {},
   "source": [
    "# 14.How do discounts impact total sales?"
   ]
  },
  {
   "cell_type": "code",
   "execution_count": 38,
   "id": "718606fd",
   "metadata": {},
   "outputs": [
    {
     "name": "stdout",
     "output_type": "stream",
     "text": [
      "Correlation : 0.008435217261571903\n"
     ]
    },
    {
     "data": {
      "image/png": "[encoded data removed]",
      "text/plain": [
       "<Figure size 432x288 with 2 Axes>"
      ]
     },
     "metadata": {
      "needs_background": "light"
     },
     "output_type": "display_data"
    }
   ],
   "source": [
    "discount_sales_correlation = data_new['TOTAL_DISCOUNT'].corr(data_new['Total_Sales'])\n",
    "print(f'Correlation : {discount_sales_correlation}')\n",
    "plt.figure(figsize=(6, 4))\n",
    "sns.heatmap([[discount_sales_correlation]], annot=True, cmap='coolwarm', vmin=-1, vmax=1, center=0, cbar_kws={'label': 'Correlation'})\n",
    "plt.title('Correlation between Discount and Total Sales')\n",
    "plt.show()\n"
   ]
  },
  {
   "cell_type": "code",
   "execution_count": 39,
   "id": "e2c793a8",
   "metadata": {},
   "outputs": [
    {
     "data": {
      "image/png": "[encoded data removed]",
      "text/plain": [
       "<Figure size 432x288 with 1 Axes>"
      ]
     },
     "metadata": {
      "needs_background": "light"
     },
     "output_type": "display_data"
    }
   ],
   "source": [
    "sns.regplot(x='TOTAL_DISCOUNT',y='Total_Sales',data=data_new)\n",
    "plt.title(\"Regression plot of Total_Discount vs Total_sales\")\n",
    "plt.show()"
   ]
  },
  {
   "cell_type": "markdown",
   "id": "08939254",
   "metadata": {},
   "source": [
    "The correlation of 0.0084 between total discount and total sales indicates that there is virtually no linear relationship between the two variables. This suggests that total discounts have a minimal impact on total sales, and other factors are likely more influential in determining overall sales performance."
   ]
  },
  {
   "cell_type": "markdown",
   "id": "6b521112",
   "metadata": {},
   "source": [
    "# 15.How does guest count correlate with total bill?"
   ]
  },
  {
   "cell_type": "code",
   "execution_count": 40,
   "id": "75ab3cfe",
   "metadata": {},
   "outputs": [
    {
     "name": "stdout",
     "output_type": "stream",
     "text": [
      "correlation:  0.20\n"
     ]
    },
    {
     "data": {
      "image/png": "[encoded data removed]",
      "text/plain": [
       "<Figure size 432x288 with 2 Axes>"
      ]
     },
     "metadata": {
      "needs_background": "light"
     },
     "output_type": "display_data"
    }
   ],
   "source": [
    "guest_count_bill_correlation = data_new['GUEST_COUNT'].corr(data_new['Total_Sales'])\n",
    "print(f'correlation: {guest_count_bill_correlation: .2f}')\n",
    "plt.figure(figsize=(6, 4))\n",
    "sns.heatmap([[guest_count_bill_correlation]], annot=True, cmap='coolwarm', vmin=-1, vmax=1, center=0, cbar_kws={'label': 'Correlation'})\n",
    "plt.title('Correlation between Guest Count and Total Bill')\n",
    "plt.show()\n"
   ]
  },
  {
   "cell_type": "code",
   "execution_count": 41,
   "id": "da502cf5",
   "metadata": {},
   "outputs": [
    {
     "data": {
      "image/png": "[encoded data removed]",
      "text/plain": [
       "<Figure size 432x288 with 1 Axes>"
      ]
     },
     "metadata": {
      "needs_background": "light"
     },
     "output_type": "display_data"
    }
   ],
   "source": [
    "sns.regplot(x='GUEST_COUNT',y='Total_Sales',data=data_new)\n",
    "plt.title('Regression plot of Guest_count vs Total_sales')\n",
    "plt.show()"
   ]
  },
  {
   "cell_type": "markdown",
   "id": "5c23df17",
   "metadata": {},
   "source": [
    "The correlation of 0.20 between guest count and total sales indicates a weak positive relationship. While a higher guest count is slightly associated with higher total sales, the correlation is weak, suggesting that other factors have a more substantial impact on total sales."
   ]
  },
  {
   "cell_type": "markdown",
   "id": "e6ffdcf1",
   "metadata": {},
   "source": [
    "# 16.What is the distribution of distances to the closest store?"
   ]
  },
  {
   "cell_type": "code",
   "execution_count": 42,
   "id": "badd08e2",
   "metadata": {},
   "outputs": [
    {
     "data": {
      "image/png": "[encoded data removed]",
      "text/plain": [
       "<Figure size 720x432 with 1 Axes>"
      ]
     },
     "metadata": {
      "needs_background": "light"
     },
     "output_type": "display_data"
    }
   ],
   "source": [
    "plt.figure(figsize=(10, 6))\n",
    "sns.histplot(data_new['DISTANCE_TO_CLOSESTSTORE'], bins=20, kde=True)\n",
    "plt.title('Distribution of Distances to the Closest Store')\n",
    "plt.xlabel('Distance to Closest Store')\n",
    "plt.ylabel('Frequency')\n",
    "plt.show()\n"
   ]
  },
  {
   "cell_type": "markdown",
   "id": "0619600e",
   "metadata": {},
   "source": [
    "The distribution graph indicates that most people live relatively close to the nearest store, with the highest frequency of locations around 50 units from the store and fewer locations at greater distances."
   ]
  },
  {
   "cell_type": "markdown",
   "id": "f9bc0d38",
   "metadata": {},
   "source": [
    "# 17. How does distance impact total sales?\n"
   ]
  },
  {
   "cell_type": "code",
   "execution_count": 43,
   "id": "756a1d3e",
   "metadata": {},
   "outputs": [
    {
     "data": {
      "image/png": "[encoded data removed]",
      "text/plain": [
       "<Figure size 720x432 with 1 Axes>"
      ]
     },
     "metadata": {
      "needs_background": "light"
     },
     "output_type": "display_data"
    }
   ],
   "source": [
    "import matplotlib.pyplot as plt\n",
    "import seaborn as sns\n",
    "\n",
    "plt.figure(figsize=(10, 6))\n",
    "sns.scatterplot(x='DISTANCE_TO_CLOSESTSTORE', y='Total_Sales', data=data_new, alpha=0.7,color='red')\n",
    "plt.title('Impact of Distance to Closest Store on Total Sales')\n",
    "plt.xlabel('Distance to Closest Store')\n",
    "plt.ylabel('Total Sales')\n",
    "plt.show()\n"
   ]
  },
  {
   "cell_type": "markdown",
   "id": "3ec7acc0",
   "metadata": {},
   "source": [
    "The line graph slopes upwards as the distance to the closest store increases, which means that stores with a higher distance to the closest store have higher total sales. There could be other factors that influence total sales, such as the size of the store or the products that it sells."
   ]
  },
  {
   "cell_type": "markdown",
   "id": "a1762e45",
   "metadata": {},
   "source": [
    "# 18.How does the frequency of repeat customers compare to new customers across different guest counts?"
   ]
  },
  {
   "cell_type": "code",
   "execution_count": 44,
   "id": "7b28d16f",
   "metadata": {},
   "outputs": [
    {
     "data": {
      "image/png": "[encoded data removed]",
      "text/plain": [
       "<Figure size 720x432 with 1 Axes>"
      ]
     },
     "metadata": {
      "needs_background": "light"
     },
     "output_type": "display_data"
    }
   ],
   "source": [
    "plt.figure(figsize=(10,6))\n",
    "sns.countplot(x='GUEST_COUNT',data=data_new,hue='SECONDVISITFLAG')\n",
    "plt.title('Count of guest by Second visit')\n",
    "plt.show()"
   ]
  },
  {
   "cell_type": "markdown",
   "id": "47f081b3",
   "metadata": {},
   "source": [
    "Most transactions involve 1 or 2 guests, with very few larger groups, and repeat customers significantly outnumber new ones, indicating high customer retention."
   ]
  },
  {
   "cell_type": "markdown",
   "id": "bf3a978b",
   "metadata": {},
   "source": [
    "# 19.How do discounts impact the total sales of different items"
   ]
  },
  {
   "cell_type": "code",
   "execution_count": 45,
   "id": "84edcef6",
   "metadata": {},
   "outputs": [
    {
     "name": "stdout",
     "output_type": "stream",
     "text": [
      "                        Item       Sales  TOTALQUANTITY  TOTAL_DISCOUNT\n",
      "0            Appetizers_Sale   930963.57        1189628      1000069.95\n",
      "1                  Beer_Sale   106543.42        1189628      1000069.95\n",
      "2             Beverages_Sale    19792.32        1189628      1000069.95\n",
      "3           Combo_Boxes_Sale   113872.45        1189628      1000069.95\n",
      "4              Desserts_Sale   229025.43        1189628      1000069.95\n",
      "5                  Kids_Sale    10177.44        1189628      1000069.95\n",
      "6            Lunch_Duos_Sale   527167.34        1189628      1000069.95\n",
      "7           Main_Plates_Sale   639827.54        1189628      1000069.95\n",
      "8                 Mains_Sale    24042.70        1189628      1000069.95\n",
      "9          Mixed_Drinks_Sale   443214.56        1189628      1000069.95\n",
      "10                 NABs_Sale   557649.46        1189628      1000069.95\n",
      "11               Pastas_Sale  1415081.81        1189628      1000069.95\n",
      "12                Pizza_Sale  3475535.00        1189628      1000069.95\n",
      "13  Salads_&_Powerbowls_Sale    85285.18        1189628      1000069.95\n",
      "14               Salads_Sale  1410221.61        1189628      1000069.95\n",
      "15           Sandwiches_Sale   124467.16        1189628      1000069.95\n",
      "16         Small_Plates_Sale   199342.40        1189628      1000069.95\n",
      "17                Soups_Sale   127745.87        1189628      1000069.95\n",
      "18            Specialty_Sale   434785.16        1189628      1000069.95\n",
      "19              Spirits_Sale    26664.50        1189628      1000069.95\n",
      "20                 Wine_Sale   144959.26        1189628      1000069.95\n"
     ]
    }
   ],
   "source": [
    "# Define the columns representing different item sales\n",
    "item_sales_columns = [\n",
    "    'Main_Plates_Sale', 'Salads_&_Powerbowls_Sale', 'Salads_Sale', \n",
    "    'Beverages_Sale', 'Mixed_Drinks_Sale', 'Pastas_Sale', 'Soups_Sale', \n",
    "    'Beer_Sale', 'Spirits_Sale', 'Wine_Sale', 'Mains_Sale', 'Pizza_Sale', \n",
    "    'NABs_Sale', 'Specialty_Sale', 'Appetizers_Sale', 'Small_Plates_Sale', \n",
    "    'Lunch_Duos_Sale', 'Combo_Boxes_Sale', 'Desserts_Sale', 'Kids_Sale', \n",
    "    'Sandwiches_Sale'\n",
    "]\n",
    "\n",
    "# Melt the DataFrame to long format for easier aggregation\n",
    "melted_data = data.melt(id_vars=[ 'TOTALQUANTITY', 'TOTAL_DISCOUNT', 'SECONDVISITFLAG'],\n",
    "                        value_vars=item_sales_columns,\n",
    "                        var_name='Item',\n",
    "                        value_name='Sales')\n",
    "\n",
    "# Create the pivot table\n",
    "pivot_table = pd.pivot_table(melted_data,\n",
    "                             values=['Sales', 'TOTALQUANTITY', 'TOTAL_DISCOUNT'],\n",
    "                             index='Item',\n",
    "                             aggfunc={'Sales': 'sum', 'TOTALQUANTITY': 'sum', 'TOTAL_DISCOUNT': 'sum'}).reset_index()\n",
    "\n",
    "# Display the pivot table\n",
    "print(pivot_table)\n",
    "\n"
   ]
  },
  {
   "cell_type": "markdown",
   "id": "9c98a604",
   "metadata": {},
   "source": [
    "The analysis reveals that pizza, pastas, and salads are the top-selling items, contributing significantly to total sales. In contrast, items like kids’ meals have much lower sales. The consistent discount figures suggest a fixed discount rate or a large number of discount transactions across all item types. These insights can help focus on high-revenue items and evaluate the effectiveness of discount strategies."
   ]
  },
  {
   "cell_type": "markdown",
   "id": "ec1052da",
   "metadata": {},
   "source": [
    "# 20.What insights can we gain from the spread and distribution of sales and discount data across different food categories?"
   ]
  },
  {
   "cell_type": "code",
   "execution_count": 46,
   "id": "9c3f9229",
   "metadata": {},
   "outputs": [
    {
     "data": {
      "image/png": "[encoded data removed]",
      "text/plain": [
       "<Figure size 1080x720 with 8 Axes>"
      ]
     },
     "metadata": {
      "needs_background": "light"
     },
     "output_type": "display_data"
    }
   ],
   "source": [
    "plt.figure(figsize=(15,10))\n",
    "numeric_col=['TOTALQUANTITY','TOTAL_DISCOUNT', '%_Alcohol_of_Bill', 'GUEST_COUNT','Salads_&_Powerbowls_Sale','Sandwiches_Sale','Specialty_Sale','Mains_Sale']\n",
    "plot_num=1\n",
    "for i in numeric_col:\n",
    "    if plot_num<=8:\n",
    "        ax=plt.subplot(3,3,plot_num)\n",
    "        sns.boxplot(x=data_new[i])\n",
    "        \n",
    "    plot_num +=1\n",
    "plt.show()\n",
    "    "
   ]
  },
  {
   "cell_type": "markdown",
   "id": "800ff06d",
   "metadata": {},
   "source": [
    "The box plots reveal the presence of outliers and variability in the selected numeric columns. The wide spread in some columns indicates high variability, while the outliers suggest extreme values that could influence the overall analysis. "
   ]
  },
  {
   "cell_type": "markdown",
   "id": "4e3e63b8",
   "metadata": {},
   "source": [
    "# Step 3: Feature Scaling"
   ]
  },
  {
   "cell_type": "code",
   "execution_count": 47,
   "id": "e42373d2",
   "metadata": {},
   "outputs": [],
   "source": [
    "label=LabelEncoder()\n",
    "data_new['SECONDVISITFLAG']=label.fit_transform(data_new['SECONDVISITFLAG'])"
   ]
  },
  {
   "cell_type": "markdown",
   "id": "42602c58",
   "metadata": {},
   "source": [
    "# Handling Imbalanced Dataset:\n",
    "The distribution shows that 89.6% of the entries have 'N' (no second visit), and only 10.4% have 'Y' (second visit). This is a clear indication of imbalance in this column"
   ]
  },
  {
   "cell_type": "code",
   "execution_count": 75,
   "id": "95b76280",
   "metadata": {},
   "outputs": [
    {
     "name": "stdout",
     "output_type": "stream",
     "text": [
      "after resampling : \n",
      " 0    0.5\n",
      "1    0.5\n",
      "Name: SECONDVISITFLAG, dtype: float64\n"
     ]
    }
   ],
   "source": [
    "x=data_new.drop(columns=['SECONDVISITFLAG'])\n",
    "y=data_new['SECONDVISITFLAG']\n",
    "#apply smote to dataset\n",
    "smote=SMOTE(sampling_strategy='auto',random_state=42)\n",
    "x_resampled,y_resampled=smote.fit_resample(x,y)\n",
    "\n",
    "#cheack the distribution after resampling\n",
    "y_resampled_distribution=y_resampled.value_counts(normalize=True)\n",
    "print('after resampling :','\\n',y_resampled_distribution)"
   ]
  },
  {
   "cell_type": "markdown",
   "id": "61cd3758",
   "metadata": {},
   "source": [
    "# A. Construct a predictive model aimed at predicting the probability of a customer making a repeat visit."
   ]
  },
  {
   "cell_type": "markdown",
   "id": "87c36cc3",
   "metadata": {},
   "source": [
    "# Step 4: Model Training"
   ]
  },
  {
   "cell_type": "code",
   "execution_count": 68,
   "id": "05997208",
   "metadata": {},
   "outputs": [
    {
     "name": "stdout",
     "output_type": "stream",
     "text": [
      "Class distribution before SMOTE: Counter({0: 170965, 1: 19883})\n",
      "Class distribution after SMOTE: Counter({0: 170965, 1: 170965})\n"
     ]
    },
    {
     "name": "stderr",
     "output_type": "stream",
     "text": [
      "C:\\Users\\Admin\\anaconda3\\lib\\site-packages\\sklearn\\linear_model\\_logistic.py:469: ConvergenceWarning: lbfgs failed to converge (status=1):\n",
      "STOP: TOTAL NO. of ITERATIONS REACHED LIMIT.\n",
      "\n",
      "Increase the number of iterations (max_iter) or scale the data as shown in:\n",
      "    https://scikit-learn.org/stable/modules/preprocessing.html\n",
      "Please also refer to the documentation for alternative solver options:\n",
      "    https://scikit-learn.org/stable/modules/linear_model.html#logistic-regression\n",
      "  n_iter_i = _check_optimize_result(\n"
     ]
    },
    {
     "name": "stdout",
     "output_type": "stream",
     "text": [
      "logistic Regression Accuracy : 0.54\n",
      "logistic Regression ROC-AUC Score: 0.56\n",
      "confusion_matrix : [[23072 19628]\n",
      " [ 2252  2761]]\n",
      "F1-score:  0.20151813736223634 \n",
      "\n",
      "Decisoin Tree  Accuracy : 0.78\n",
      "Decisoin Tree  ROC-AUC Score: 0.55\n",
      "confusion_matrix : [[36177  6523]\n",
      " [ 3852  1161]]\n",
      "F1-score:  0.18287784516027408 \n",
      "\n",
      "Random Forest Accuracy : 0.84\n",
      "Random Forest ROC-AUC Score: 0.61\n",
      "confusion_matrix : [[39549  3151]\n",
      " [ 4277   736]]\n",
      "F1-score:  0.16539325842696628 \n",
      "\n",
      "XGBoost Accuracy : 0.82\n",
      "XGBoost ROC-AUC Score: 0.66\n",
      "confusion_matrix : [[37804  4896]\n",
      " [ 3807  1206]]\n",
      "F1-score:  0.21700404858299596 \n",
      "\n",
      "BernoulliNB Accuracy : 0.54\n",
      "BernoulliNB ROC-AUC Score: 0.55\n",
      "confusion_matrix : [[22909 19791]\n",
      " [ 2297  2716]]\n",
      "F1-score:  0.19738372093023257 \n",
      "\n"
     ]
    }
   ],
   "source": [
    "#feautures=['TOTALQUANTITY','TOTAL_DISCOUNT','GUEST_COUNT','Total_Sales']\n",
    "x=data_new.drop('SECONDVISITFLAG',axis=1)\n",
    "y=data_new['SECONDVISITFLAG']\n",
    "X_train,X_test,Y_train,Y_test=train_test_split(x,y,test_size=0.20,random_state=42)\n",
    "\n",
    "# Display class distribution before SMOTE\n",
    "print(\"Class distribution before SMOTE:\", Counter(Y_train))\n",
    " \n",
    "# Apply SMOTE to oversample the minority class\n",
    "smote = SMOTE(sampling_strategy='auto', random_state=42)\n",
    "X_train_resampled, Y_train_resampled = smote.fit_resample(X_train, Y_train)\n",
    " \n",
    "# Display class distribution after SMOTE\n",
    "print(\"Class distribution after SMOTE:\", Counter(Y_train_resampled))\n",
    "\n",
    "models={'logistic Regression': LogisticRegression(),\n",
    "       'Decisoin Tree ': DecisionTreeClassifier(),\n",
    "       'Random Forest': RandomForestClassifier(),\n",
    "       'XGBoost':XGBClassifier(),\n",
    "        'BernoulliNB':BernoulliNB()\n",
    "       }\n",
    "#train and evaluate each model\n",
    "for model_name,model in models.items():\n",
    "    model.fit(X_train_resampled,Y_train_resampled)\n",
    "    y_pred=model.predict(X_test)\n",
    "    y_prob = model.predict_proba(X_test)[:,1]\n",
    "    accuracy=accuracy_score(Y_test,y_pred)\n",
    "    confusion_mx=confusion_matrix(Y_test,y_pred)\n",
    "    roc_auc = roc_auc_score(Y_test, y_prob)\n",
    "    print(f'{model_name} Accuracy : {accuracy :.2f}')\n",
    "    print(f'{model_name} ROC-AUC Score: {roc_auc:.2f}')\n",
    "    print(f'confusion_matrix : {confusion_mx}')\n",
    "    print('F1-score: ',f1_score(Y_test,y_pred),'\\n')\n",
    "  \n"
   ]
  },
  {
   "cell_type": "markdown",
   "id": "84456972",
   "metadata": {},
   "source": [
    "# XGBoost :XGBoost is the best model among those tested for predicting customer repeat visits. It has the highest ROC-AUC score, indicating good performance in distinguishing between classes, and a reasonable F1-score that balances precision and recall. While Random Forest has slightly higher accuracy, the ROC-AUC and F1-score suggest XGBoost provides a better overall prediction quality, especially in an imbalanced dataset scenario.\n"
   ]
  },
  {
   "cell_type": "markdown",
   "id": "db7754a0",
   "metadata": {},
   "source": [
    "# B. Determine the primary factors influencing repeat visits."
   ]
  },
  {
   "cell_type": "markdown",
   "id": "6fbd6992",
   "metadata": {},
   "source": [
    "# 1. Extract Feature Importance"
   ]
  },
  {
   "cell_type": "code",
   "execution_count": 69,
   "id": "e831d123",
   "metadata": {},
   "outputs": [
    {
     "name": "stdout",
     "output_type": "stream",
     "text": [
      "                     Feature  Importance\n",
      "13                 NABs_Sale    0.094923\n",
      "12                Pizza_Sale    0.074507\n",
      "25  DISTANCE_TO_CLOSESTSTORE    0.073802\n",
      "16         Small_Plates_Sale    0.070004\n",
      "24               GUEST_COUNT    0.064662\n",
      "19             Desserts_Sale    0.058035\n",
      "7                 Soups_Sale    0.054125\n",
      "15           Appetizers_Sale    0.051644\n",
      "3                Salads_Sale    0.048997\n",
      "22            TOTAL_DISCOUNT    0.046935\n",
      "5          Mixed_Drinks_Sale    0.042517\n",
      "6                Pastas_Sale    0.035086\n",
      "1           Main_Plates_Sale    0.033734\n",
      "8                  Beer_Sale    0.032600\n",
      "17           Lunch_Duos_Sale    0.032350\n",
      "0              TOTALQUANTITY    0.030320\n",
      "9               Spirits_Sale    0.021347\n",
      "21           Sandwiches_Sale    0.020083\n",
      "14            Specialty_Sale    0.017481\n",
      "26               Total_Sales    0.017048\n",
      "4             Beverages_Sale    0.017023\n",
      "18          Combo_Boxes_Sale    0.014826\n",
      "10                 Wine_Sale    0.011682\n",
      "2   Salads_&_Powerbowls_Sale    0.011237\n",
      "23         %_Alcohol_of_Bill    0.009518\n",
      "20                 Kids_Sale    0.009273\n",
      "27        Main_Plate_Revenue    0.006240\n",
      "11                Mains_Sale    0.000000\n"
     ]
    }
   ],
   "source": [
    "model_xgb=XGBClassifier(random_state=42)\n",
    "model_xgb.fit(X_train_resampled,Y_train_resampled)\n",
    "importances = model_xgb.feature_importances_\n",
    "feature_names = X_train_resampled.columns\n",
    "\n",
    "# Create a DataFrame for visualization\n",
    "importances_df = pd.DataFrame({'Feature': feature_names, 'Importance': importances})\n",
    "importances_df = importances_df.sort_values(by='Importance', ascending=False)\n",
    "print(importances_df)\n"
   ]
  },
  {
   "cell_type": "markdown",
   "id": "3c2be5ba",
   "metadata": {},
   "source": [
    "NABs_Sale, Pizza_Sale, and DISTANCE_TO_CLOSESTSTORE are the top predictors, indicating that customer choices related to specific menu items and the store's location are crucial for predicting repeat visits."
   ]
  },
  {
   "cell_type": "markdown",
   "id": "27f9f9f5",
   "metadata": {},
   "source": [
    "# 2. Statistical Analysis"
   ]
  },
  {
   "cell_type": "markdown",
   "id": "143af7fb",
   "metadata": {},
   "source": [
    "# a. Correlation Analysis"
   ]
  },
  {
   "cell_type": "code",
   "execution_count": 51,
   "id": "5aac823b",
   "metadata": {},
   "outputs": [
    {
     "name": "stdout",
     "output_type": "stream",
     "text": [
      "SECONDVISITFLAG             1.000000\n",
      "Soups_Sale                  0.012484\n",
      "Salads_Sale                 0.006436\n",
      "Lunch_Duos_Sale             0.001861\n",
      "Wine_Sale                   0.001217\n",
      "Specialty_Sale             -0.000020\n",
      "Salads_&_Powerbowls_Sale   -0.002192\n",
      "Mains_Sale                 -0.002323\n",
      "Kids_Sale                  -0.002479\n",
      "Beverages_Sale             -0.002665\n",
      "Sandwiches_Sale            -0.003388\n",
      "Combo_Boxes_Sale           -0.004783\n",
      "Spirits_Sale               -0.004812\n",
      "%_Alcohol_of_Bill          -0.006625\n",
      "Desserts_Sale              -0.007022\n",
      "Beer_Sale                  -0.009437\n",
      "Pastas_Sale                -0.010262\n",
      "Main_Plates_Sale           -0.010394\n",
      "Main_Plate_Revenue         -0.011465\n",
      "TOTAL_DISCOUNT             -0.012382\n",
      "Appetizers_Sale            -0.016705\n",
      "DISTANCE_TO_CLOSESTSTORE   -0.018898\n",
      "Small_Plates_Sale          -0.022089\n",
      "Mixed_Drinks_Sale          -0.025945\n",
      "Total_Sales                -0.034197\n",
      "GUEST_COUNT                -0.035137\n",
      "TOTALQUANTITY              -0.035179\n",
      "Pizza_Sale                 -0.046055\n",
      "NABs_Sale                  -0.049061\n",
      "Name: SECONDVISITFLAG, dtype: float64\n"
     ]
    }
   ],
   "source": [
    "correlation_matrix = data_new.corr()\n",
    "correlation_with_target = correlation_matrix['SECONDVISITFLAG'].sort_values(ascending=False)\n",
    "print(correlation_with_target)\n"
   ]
  },
  {
   "cell_type": "markdown",
   "id": "b88683c8",
   "metadata": {},
   "source": [
    "- Focus on Positive Influencers: While the positive correlations are weak, promoting items like soups and salads might have a slight positive impact on encouraging repeat visits.\n",
    "- Investigate Negative Influencers: The negative correlation with pizza sales and total quantity suggests a need to investigate why higher sales in these categories are associated with fewer second visits. It could be related to customer satisfaction, pricing, or other factors.\n"
   ]
  },
  {
   "cell_type": "markdown",
   "id": "950dca9e",
   "metadata": {},
   "source": [
    "# b. Feature Selection Techniques"
   ]
  },
  {
   "cell_type": "code",
   "execution_count": 70,
   "id": "cb1f17e9",
   "metadata": {},
   "outputs": [
    {
     "name": "stdout",
     "output_type": "stream",
     "text": [
      "Selected features: Index(['Salads_Sale', 'Soups_Sale', 'Pizza_Sale', 'NABs_Sale',\n",
      "       'Appetizers_Sale', 'Small_Plates_Sale', 'Desserts_Sale',\n",
      "       'TOTAL_DISCOUNT', 'GUEST_COUNT', 'DISTANCE_TO_CLOSESTSTORE'],\n",
      "      dtype='object')\n"
     ]
    }
   ],
   "source": [
    "from sklearn.feature_selection import RFE\n",
    "\n",
    "selector = RFE(model_xgb, n_features_to_select=10)\n",
    "selector = selector.fit(X_train_resampled, Y_train_resampled)\n",
    "\n",
    "# Get the selected features\n",
    "selected_features = X_train_resampled.columns[selector.support_]\n",
    "print(\"Selected features:\", selected_features)\n"
   ]
  },
  {
   "cell_type": "markdown",
   "id": "f7fa0273",
   "metadata": {},
   "source": [
    "The most significant factors influencing repeat visits are  'Salads_Sale', 'Pizza_Sale', 'NABs_Sale',\n",
    "       'Appetizers_Sale', 'Lunch_Duos_Sale', 'TOTAL_DISCOUNT', 'GUEST_COUNT',\n",
    "       'DISTANCE_TO_CLOSESTSTORE', 'Total_Sales'."
   ]
  },
  {
   "cell_type": "markdown",
   "id": "794efc1d",
   "metadata": {},
   "source": [
    "# 3. Model Coefficients (For Linear Models)"
   ]
  },
  {
   "cell_type": "code",
   "execution_count": 71,
   "id": "4972ad88",
   "metadata": {},
   "outputs": [
    {
     "name": "stdout",
     "output_type": "stream",
     "text": [
      "                     Feature  Coefficient\n",
      "7                 Soups_Sale     0.020850\n",
      "4             Beverages_Sale     0.012782\n",
      "19             Desserts_Sale     0.011211\n",
      "3                Salads_Sale     0.010394\n",
      "17           Lunch_Duos_Sale     0.010214\n",
      "1           Main_Plates_Sale     0.007692\n",
      "10                 Wine_Sale     0.007147\n",
      "8                  Beer_Sale     0.006745\n",
      "15           Appetizers_Sale     0.005381\n",
      "6                Pastas_Sale     0.004991\n",
      "22            TOTAL_DISCOUNT     0.003205\n",
      "23         %_Alcohol_of_Bill     0.002678\n",
      "14            Specialty_Sale     0.001932\n",
      "18          Combo_Boxes_Sale     0.001104\n",
      "27        Main_Plate_Revenue    -0.000297\n",
      "12                Pizza_Sale    -0.000495\n",
      "25  DISTANCE_TO_CLOSESTSTORE    -0.000651\n",
      "26               Total_Sales    -0.001238\n",
      "11                Mains_Sale    -0.003376\n",
      "2   Salads_&_Powerbowls_Sale    -0.003533\n",
      "21           Sandwiches_Sale    -0.006204\n",
      "5          Mixed_Drinks_Sale    -0.009177\n",
      "13                 NABs_Sale    -0.011239\n",
      "9               Spirits_Sale    -0.018655\n",
      "16         Small_Plates_Sale    -0.020539\n",
      "20                 Kids_Sale    -0.028464\n",
      "0              TOTALQUANTITY    -0.029862\n",
      "24               GUEST_COUNT    -0.266084\n"
     ]
    },
    {
     "name": "stderr",
     "output_type": "stream",
     "text": [
      "C:\\Users\\Admin\\anaconda3\\lib\\site-packages\\sklearn\\linear_model\\_logistic.py:469: ConvergenceWarning: lbfgs failed to converge (status=1):\n",
      "STOP: TOTAL NO. of ITERATIONS REACHED LIMIT.\n",
      "\n",
      "Increase the number of iterations (max_iter) or scale the data as shown in:\n",
      "    https://scikit-learn.org/stable/modules/preprocessing.html\n",
      "Please also refer to the documentation for alternative solver options:\n",
      "    https://scikit-learn.org/stable/modules/linear_model.html#logistic-regression\n",
      "  n_iter_i = _check_optimize_result(\n"
     ]
    }
   ],
   "source": [
    "# Initialize and train the model\n",
    "log_model = LogisticRegression(random_state=42)\n",
    "log_model.fit(X_train_resampled, Y_train_resampled)\n",
    "\n",
    "# Get the coefficients\n",
    "coefficients = log_model.coef_[0]\n",
    "coef_df = pd.DataFrame({'Feature': X_train_resampled.columns, 'Coefficient': coefficients})\n",
    "coef_df = coef_df.sort_values(by='Coefficient', ascending=False)\n",
    "print(coef_df)"
   ]
  },
  {
   "cell_type": "markdown",
   "id": "9ca1cb37",
   "metadata": {},
   "source": [
    "- Focus on Positive Features: Emphasize features with positive contributions (like Soups_Sale and Beverages_Sale) in your marketing and operational strategies.\n",
    "- Address Negative Features: Investigate and potentially mitigate the negative effects of features like GUEST_COUNT and TOTALQUANTITY.\n",
    "\n",
    "\n",
    "\n",
    "\n"
   ]
  },
  {
   "cell_type": "markdown",
   "id": "4e8764bf",
   "metadata": {},
   "source": [
    "# Assessing the Model's Performance\n"
   ]
  },
  {
   "cell_type": "markdown",
   "id": "11d3dd34",
   "metadata": {},
   "source": [
    "# 1.Evaluate Performance Metrics:"
   ]
  },
  {
   "cell_type": "code",
   "execution_count": 54,
   "id": "c9552e40",
   "metadata": {},
   "outputs": [
    {
     "data": {
      "text/plain": [
       "(238561, 29)"
      ]
     },
     "execution_count": 54,
     "metadata": {},
     "output_type": "execute_result"
    }
   ],
   "source": [
    "data_new.shape"
   ]
  },
  {
   "cell_type": "code",
   "execution_count": 60,
   "id": "79209c7b",
   "metadata": {},
   "outputs": [
    {
     "name": "stdout",
     "output_type": "stream",
     "text": [
      "Accuracy: 0.8948504600423365\n",
      "Classification Report:\n",
      "               precision    recall  f1-score   support\n",
      "\n",
      "           0       0.90      1.00      0.94     42700\n",
      "           1       0.39      0.00      0.00      5013\n",
      "\n",
      "    accuracy                           0.89     47713\n",
      "   macro avg       0.64      0.50      0.47     47713\n",
      "weighted avg       0.84      0.89      0.85     47713\n",
      "\n",
      "ROC-AUC Score: 0.7028706977782824\n",
      "F1-score:  0.0027827469687934803\n"
     ]
    }
   ],
   "source": [
    "y_pred = model_xgb.predict(X_test)\n",
    "y_prob = model_xgb.predict_proba(X_test)[:, 1]\n",
    "\n",
    "print(\"Accuracy:\", accuracy_score(Y_test, y_pred))\n",
    "print(\"Classification Report:\\n\", classification_report(Y_test, y_pred))\n",
    "print(\"ROC-AUC Score:\", roc_auc_score(Y_test, y_prob))\n",
    "print('F1-score: ',f1_score(Y_test,y_pred))"
   ]
  },
  {
   "cell_type": "markdown",
   "id": "9270ea62",
   "metadata": {},
   "source": [
    " - Strenght:\n",
    "  - High overall accuracy and excellent performance in predicting non-repeat visits.\n",
    "  - Good ROC-AUC score shows strong model performance in distinguishing between the two classes.\n",
    "\n",
    " - Weakness:\n",
    "  - The model struggles with identifying repeat visits (class 1), as indicated by low recall and F1-score for this class.\n",
    "  - Precision for class 1 is relatively lower, showing room for improvement in correctly predicting repeat visits.\n"
   ]
  },
  {
   "cell_type": "markdown",
   "id": "dfc0df6a",
   "metadata": {},
   "source": [
    "# 2. Check Confusion Matrix:"
   ]
  },
  {
   "cell_type": "code",
   "execution_count": 56,
   "id": "13486814",
   "metadata": {},
   "outputs": [
    {
     "data": {
      "image/png": "[encoded data removed]",
      "text/plain": [
       "<Figure size 432x288 with 2 Axes>"
      ]
     },
     "metadata": {
      "needs_background": "light"
     },
     "output_type": "display_data"
    }
   ],
   "source": [
    "cm = confusion_matrix(Y_test, y_pred)\n",
    "sns.heatmap(cm, annot=True, fmt='d', cmap='Blues', \n",
    "            xticklabels=['No Repeat', 'Repeat'], \n",
    "            yticklabels=['No Repeat', 'Repeat'])\n",
    "plt.title('Confusion Matrix')\n",
    "plt.xlabel('Predicted')\n",
    "plt.ylabel('Actual')\n",
    "plt.show()"
   ]
  },
  {
   "cell_type": "markdown",
   "id": "8226b6b8",
   "metadata": {},
   "source": [
    "1.The model is effective at predicting non-repeat visits with high accuracy and low false positive rate.\n",
    "\n",
    "2.The model struggles to identify repeat visits, resulting in a high number of false negatives. This suggests that while the overall accuracy is high, the model’s ability to correctly identify repeat visits (class 1) is limited.\n"
   ]
  },
  {
   "cell_type": "markdown",
   "id": "291db63b",
   "metadata": {},
   "source": [
    "# C. Offer actionable insights and recommendations derived from the model's insights to bolster customer retention initiatives and foster business expansion.\n"
   ]
  },
  {
   "cell_type": "markdown",
   "id": "aabe1e91",
   "metadata": {},
   "source": [
    "# #Actionable Insights and Recommendations"
   ]
  },
  {
   "cell_type": "markdown",
   "id": "ea79047c",
   "metadata": {},
   "source": [
    "# 1.Enhance Repeat Visit Identification:\n",
    "- Adjust Thresholds: Lower the classification threshold to improve recall for identifying repeat visitors.\n",
    "- Refine Segmentation: Use clustering to segment customers and tailor retention strategies to each segment’s needs.\n",
    "\n",
    "# 2.Optimize Marketing and Promotions:\n",
    "- Targeted Offers: Create personalized campaigns with discounts for likely repeat customers.\n",
    "- Loyalty Programs: Implement promotions and rewards to encourage repeat visits.\n",
    "\n",
    "# 3. Improve Customer Experience:\n",
    "\n",
    "- Address Negative Factors: Mitigate issues like store distance by offering delivery options or expanding locations.\n",
    "- Enhance Experience: Invest in better service, ambiance, and overall customer experience to boost satisfaction.\n",
    "\n",
    "# 4. Leverage Customer Feedback:\n",
    "\n",
    "- Collect Feedback: Regularly gather and analyze customer feedback to drive improvements.\n",
    "- Engage Loyal Customers: Build relationships through exclusive offers and personalized communication.\n",
    "\n",
    "# 5. Enhance Product and Sales Strategies:\n",
    "\n",
    "- Review Sales Data: Promote high-performing products and ensure availability.\n",
    "- Optimize Pricing: Adjust pricing and discounts based on effectiveness and profitability.\n",
    "\n",
    "# 6.Address Class Imbalance:\n",
    "\n",
    "- Data Enrichment: Add more features or external data to improve model predictions.\n",
    "- Model Improvement: Continuously refine the model with techniques like cross-validation and feature engineering."
   ]
  },
  {
   "cell_type": "markdown",
   "id": "46199793",
   "metadata": {},
   "source": [
    "# Implementation Plan\n",
    "- Strategy Document: Develop a detailed plan with actions, timelines, and responsibilities.\n",
    "- Pilot Programs: Test strategies in select areas before full-scale rollout.\n",
    "- Monitor and Measure: Track key performance indicators and adjust as needed.\n",
    "- Feedback Loop: Use customer and staff feedback to continuously enhance strategies."
   ]
  },
  {
   "cell_type": "code",
   "execution_count": 57,
   "id": "2fc3412b",
   "metadata": {},
   "outputs": [
    {
     "data": {
      "text/html": [
       "<div>\n",
       "<style scoped>\n",
       "    .dataframe tbody tr th:only-of-type {\n",
       "        vertical-align: middle;\n",
       "    }\n",
       "\n",
       "    .dataframe tbody tr th {\n",
       "        vertical-align: top;\n",
       "    }\n",
       "\n",
       "    .dataframe thead th {\n",
       "        text-align: right;\n",
       "    }\n",
       "</style>\n",
       "<table border=\"1\" class=\"dataframe\">\n",
       "  <thead>\n",
       "    <tr style=\"text-align: right;\">\n",
       "      <th></th>\n",
       "      <th>TOTALQUANTITY</th>\n",
       "      <th>Main_Plates_Sale</th>\n",
       "      <th>Salads_&amp;_Powerbowls_Sale</th>\n",
       "      <th>Salads_Sale</th>\n",
       "      <th>Beverages_Sale</th>\n",
       "      <th>Mixed_Drinks_Sale</th>\n",
       "      <th>Pastas_Sale</th>\n",
       "      <th>Soups_Sale</th>\n",
       "      <th>Beer_Sale</th>\n",
       "      <th>Spirits_Sale</th>\n",
       "      <th>...</th>\n",
       "      <th>Desserts_Sale</th>\n",
       "      <th>Kids_Sale</th>\n",
       "      <th>Sandwiches_Sale</th>\n",
       "      <th>TOTAL_DISCOUNT</th>\n",
       "      <th>%_Alcohol_of_Bill</th>\n",
       "      <th>GUEST_COUNT</th>\n",
       "      <th>DISTANCE_TO_CLOSESTSTORE</th>\n",
       "      <th>SECONDVISITFLAG</th>\n",
       "      <th>Total_Sales</th>\n",
       "      <th>Main_Plate_Revenue</th>\n",
       "    </tr>\n",
       "  </thead>\n",
       "  <tbody>\n",
       "    <tr>\n",
       "      <th>0</th>\n",
       "      <td>17</td>\n",
       "      <td>0.0</td>\n",
       "      <td>0.0</td>\n",
       "      <td>26.28</td>\n",
       "      <td>0.0</td>\n",
       "      <td>0.0</td>\n",
       "      <td>0.00</td>\n",
       "      <td>6.99</td>\n",
       "      <td>0.0</td>\n",
       "      <td>0.0</td>\n",
       "      <td>...</td>\n",
       "      <td>0.00</td>\n",
       "      <td>0.0</td>\n",
       "      <td>0.0</td>\n",
       "      <td>0.00</td>\n",
       "      <td>0.0</td>\n",
       "      <td>6</td>\n",
       "      <td>4.468420</td>\n",
       "      <td>0</td>\n",
       "      <td>154.56</td>\n",
       "      <td>0.0</td>\n",
       "    </tr>\n",
       "    <tr>\n",
       "      <th>1</th>\n",
       "      <td>2</td>\n",
       "      <td>0.0</td>\n",
       "      <td>0.0</td>\n",
       "      <td>0.00</td>\n",
       "      <td>0.0</td>\n",
       "      <td>0.0</td>\n",
       "      <td>0.00</td>\n",
       "      <td>0.00</td>\n",
       "      <td>0.0</td>\n",
       "      <td>0.0</td>\n",
       "      <td>...</td>\n",
       "      <td>0.00</td>\n",
       "      <td>0.0</td>\n",
       "      <td>0.0</td>\n",
       "      <td>10.00</td>\n",
       "      <td>0.0</td>\n",
       "      <td>1</td>\n",
       "      <td>4.468420</td>\n",
       "      <td>0</td>\n",
       "      <td>7.69</td>\n",
       "      <td>0.0</td>\n",
       "    </tr>\n",
       "    <tr>\n",
       "      <th>2</th>\n",
       "      <td>3</td>\n",
       "      <td>0.0</td>\n",
       "      <td>0.0</td>\n",
       "      <td>0.00</td>\n",
       "      <td>0.0</td>\n",
       "      <td>0.0</td>\n",
       "      <td>0.00</td>\n",
       "      <td>0.00</td>\n",
       "      <td>0.0</td>\n",
       "      <td>0.0</td>\n",
       "      <td>...</td>\n",
       "      <td>0.00</td>\n",
       "      <td>0.0</td>\n",
       "      <td>0.0</td>\n",
       "      <td>0.00</td>\n",
       "      <td>0.0</td>\n",
       "      <td>1</td>\n",
       "      <td>4.468420</td>\n",
       "      <td>0</td>\n",
       "      <td>12.99</td>\n",
       "      <td>0.0</td>\n",
       "    </tr>\n",
       "    <tr>\n",
       "      <th>3</th>\n",
       "      <td>3</td>\n",
       "      <td>0.0</td>\n",
       "      <td>0.0</td>\n",
       "      <td>0.00</td>\n",
       "      <td>0.0</td>\n",
       "      <td>0.0</td>\n",
       "      <td>0.00</td>\n",
       "      <td>0.00</td>\n",
       "      <td>0.0</td>\n",
       "      <td>0.0</td>\n",
       "      <td>...</td>\n",
       "      <td>6.29</td>\n",
       "      <td>0.0</td>\n",
       "      <td>0.0</td>\n",
       "      <td>0.00</td>\n",
       "      <td>0.0</td>\n",
       "      <td>1</td>\n",
       "      <td>1.531161</td>\n",
       "      <td>0</td>\n",
       "      <td>22.28</td>\n",
       "      <td>0.0</td>\n",
       "    </tr>\n",
       "    <tr>\n",
       "      <th>4</th>\n",
       "      <td>1</td>\n",
       "      <td>0.0</td>\n",
       "      <td>0.0</td>\n",
       "      <td>0.00</td>\n",
       "      <td>0.0</td>\n",
       "      <td>0.0</td>\n",
       "      <td>0.00</td>\n",
       "      <td>0.00</td>\n",
       "      <td>0.0</td>\n",
       "      <td>0.0</td>\n",
       "      <td>...</td>\n",
       "      <td>0.00</td>\n",
       "      <td>0.0</td>\n",
       "      <td>0.0</td>\n",
       "      <td>0.00</td>\n",
       "      <td>0.0</td>\n",
       "      <td>1</td>\n",
       "      <td>1.531161</td>\n",
       "      <td>0</td>\n",
       "      <td>0.00</td>\n",
       "      <td>0.0</td>\n",
       "    </tr>\n",
       "    <tr>\n",
       "      <th>...</th>\n",
       "      <td>...</td>\n",
       "      <td>...</td>\n",
       "      <td>...</td>\n",
       "      <td>...</td>\n",
       "      <td>...</td>\n",
       "      <td>...</td>\n",
       "      <td>...</td>\n",
       "      <td>...</td>\n",
       "      <td>...</td>\n",
       "      <td>...</td>\n",
       "      <td>...</td>\n",
       "      <td>...</td>\n",
       "      <td>...</td>\n",
       "      <td>...</td>\n",
       "      <td>...</td>\n",
       "      <td>...</td>\n",
       "      <td>...</td>\n",
       "      <td>...</td>\n",
       "      <td>...</td>\n",
       "      <td>...</td>\n",
       "      <td>...</td>\n",
       "    </tr>\n",
       "    <tr>\n",
       "      <th>239741</th>\n",
       "      <td>1</td>\n",
       "      <td>0.0</td>\n",
       "      <td>0.0</td>\n",
       "      <td>0.00</td>\n",
       "      <td>0.0</td>\n",
       "      <td>0.0</td>\n",
       "      <td>0.00</td>\n",
       "      <td>0.00</td>\n",
       "      <td>0.0</td>\n",
       "      <td>0.0</td>\n",
       "      <td>...</td>\n",
       "      <td>0.00</td>\n",
       "      <td>0.0</td>\n",
       "      <td>0.0</td>\n",
       "      <td>5.00</td>\n",
       "      <td>0.0</td>\n",
       "      <td>1</td>\n",
       "      <td>3.549361</td>\n",
       "      <td>1</td>\n",
       "      <td>0.00</td>\n",
       "      <td>0.0</td>\n",
       "    </tr>\n",
       "    <tr>\n",
       "      <th>239742</th>\n",
       "      <td>10</td>\n",
       "      <td>0.0</td>\n",
       "      <td>55.0</td>\n",
       "      <td>57.97</td>\n",
       "      <td>0.0</td>\n",
       "      <td>0.0</td>\n",
       "      <td>0.00</td>\n",
       "      <td>0.00</td>\n",
       "      <td>0.0</td>\n",
       "      <td>0.0</td>\n",
       "      <td>...</td>\n",
       "      <td>0.00</td>\n",
       "      <td>0.0</td>\n",
       "      <td>0.0</td>\n",
       "      <td>0.00</td>\n",
       "      <td>0.0</td>\n",
       "      <td>1</td>\n",
       "      <td>11.908136</td>\n",
       "      <td>1</td>\n",
       "      <td>229.91</td>\n",
       "      <td>0.0</td>\n",
       "    </tr>\n",
       "    <tr>\n",
       "      <th>239743</th>\n",
       "      <td>5</td>\n",
       "      <td>0.0</td>\n",
       "      <td>0.0</td>\n",
       "      <td>0.00</td>\n",
       "      <td>0.0</td>\n",
       "      <td>0.0</td>\n",
       "      <td>9.12</td>\n",
       "      <td>0.00</td>\n",
       "      <td>0.0</td>\n",
       "      <td>0.0</td>\n",
       "      <td>...</td>\n",
       "      <td>0.00</td>\n",
       "      <td>0.0</td>\n",
       "      <td>0.0</td>\n",
       "      <td>31.40</td>\n",
       "      <td>0.0</td>\n",
       "      <td>1</td>\n",
       "      <td>6.669160</td>\n",
       "      <td>1</td>\n",
       "      <td>26.13</td>\n",
       "      <td>0.0</td>\n",
       "    </tr>\n",
       "    <tr>\n",
       "      <th>239744</th>\n",
       "      <td>2</td>\n",
       "      <td>0.0</td>\n",
       "      <td>0.0</td>\n",
       "      <td>0.00</td>\n",
       "      <td>0.0</td>\n",
       "      <td>0.0</td>\n",
       "      <td>0.00</td>\n",
       "      <td>0.00</td>\n",
       "      <td>0.0</td>\n",
       "      <td>0.0</td>\n",
       "      <td>...</td>\n",
       "      <td>0.00</td>\n",
       "      <td>0.0</td>\n",
       "      <td>0.0</td>\n",
       "      <td>0.00</td>\n",
       "      <td>0.0</td>\n",
       "      <td>0</td>\n",
       "      <td>12.951460</td>\n",
       "      <td>1</td>\n",
       "      <td>16.99</td>\n",
       "      <td>0.0</td>\n",
       "    </tr>\n",
       "    <tr>\n",
       "      <th>239745</th>\n",
       "      <td>4</td>\n",
       "      <td>0.0</td>\n",
       "      <td>0.0</td>\n",
       "      <td>0.00</td>\n",
       "      <td>0.0</td>\n",
       "      <td>0.0</td>\n",
       "      <td>0.00</td>\n",
       "      <td>0.00</td>\n",
       "      <td>0.0</td>\n",
       "      <td>0.0</td>\n",
       "      <td>...</td>\n",
       "      <td>0.00</td>\n",
       "      <td>0.0</td>\n",
       "      <td>0.0</td>\n",
       "      <td>10.19</td>\n",
       "      <td>0.0</td>\n",
       "      <td>1</td>\n",
       "      <td>5.747999</td>\n",
       "      <td>1</td>\n",
       "      <td>20.77</td>\n",
       "      <td>0.0</td>\n",
       "    </tr>\n",
       "  </tbody>\n",
       "</table>\n",
       "<p>238561 rows × 29 columns</p>\n",
       "</div>"
      ],
      "text/plain": [
       "        TOTALQUANTITY  Main_Plates_Sale  Salads_&_Powerbowls_Sale  \\\n",
       "0                  17               0.0                       0.0   \n",
       "1                   2               0.0                       0.0   \n",
       "2                   3               0.0                       0.0   \n",
       "3                   3               0.0                       0.0   \n",
       "4                   1               0.0                       0.0   \n",
       "...               ...               ...                       ...   \n",
       "239741              1               0.0                       0.0   \n",
       "239742             10               0.0                      55.0   \n",
       "239743              5               0.0                       0.0   \n",
       "239744              2               0.0                       0.0   \n",
       "239745              4               0.0                       0.0   \n",
       "\n",
       "        Salads_Sale  Beverages_Sale  Mixed_Drinks_Sale  Pastas_Sale  \\\n",
       "0             26.28             0.0                0.0         0.00   \n",
       "1              0.00             0.0                0.0         0.00   \n",
       "2              0.00             0.0                0.0         0.00   \n",
       "3              0.00             0.0                0.0         0.00   \n",
       "4              0.00             0.0                0.0         0.00   \n",
       "...             ...             ...                ...          ...   \n",
       "239741         0.00             0.0                0.0         0.00   \n",
       "239742        57.97             0.0                0.0         0.00   \n",
       "239743         0.00             0.0                0.0         9.12   \n",
       "239744         0.00             0.0                0.0         0.00   \n",
       "239745         0.00             0.0                0.0         0.00   \n",
       "\n",
       "        Soups_Sale  Beer_Sale  Spirits_Sale  ...  Desserts_Sale  Kids_Sale  \\\n",
       "0             6.99        0.0           0.0  ...           0.00        0.0   \n",
       "1             0.00        0.0           0.0  ...           0.00        0.0   \n",
       "2             0.00        0.0           0.0  ...           0.00        0.0   \n",
       "3             0.00        0.0           0.0  ...           6.29        0.0   \n",
       "4             0.00        0.0           0.0  ...           0.00        0.0   \n",
       "...            ...        ...           ...  ...            ...        ...   \n",
       "239741        0.00        0.0           0.0  ...           0.00        0.0   \n",
       "239742        0.00        0.0           0.0  ...           0.00        0.0   \n",
       "239743        0.00        0.0           0.0  ...           0.00        0.0   \n",
       "239744        0.00        0.0           0.0  ...           0.00        0.0   \n",
       "239745        0.00        0.0           0.0  ...           0.00        0.0   \n",
       "\n",
       "        Sandwiches_Sale  TOTAL_DISCOUNT  %_Alcohol_of_Bill  GUEST_COUNT  \\\n",
       "0                   0.0            0.00                0.0            6   \n",
       "1                   0.0           10.00                0.0            1   \n",
       "2                   0.0            0.00                0.0            1   \n",
       "3                   0.0            0.00                0.0            1   \n",
       "4                   0.0            0.00                0.0            1   \n",
       "...                 ...             ...                ...          ...   \n",
       "239741              0.0            5.00                0.0            1   \n",
       "239742              0.0            0.00                0.0            1   \n",
       "239743              0.0           31.40                0.0            1   \n",
       "239744              0.0            0.00                0.0            0   \n",
       "239745              0.0           10.19                0.0            1   \n",
       "\n",
       "        DISTANCE_TO_CLOSESTSTORE  SECONDVISITFLAG  Total_Sales  \\\n",
       "0                       4.468420                0       154.56   \n",
       "1                       4.468420                0         7.69   \n",
       "2                       4.468420                0        12.99   \n",
       "3                       1.531161                0        22.28   \n",
       "4                       1.531161                0         0.00   \n",
       "...                          ...              ...          ...   \n",
       "239741                  3.549361                1         0.00   \n",
       "239742                 11.908136                1       229.91   \n",
       "239743                  6.669160                1        26.13   \n",
       "239744                 12.951460                1        16.99   \n",
       "239745                  5.747999                1        20.77   \n",
       "\n",
       "        Main_Plate_Revenue  \n",
       "0                      0.0  \n",
       "1                      0.0  \n",
       "2                      0.0  \n",
       "3                      0.0  \n",
       "4                      0.0  \n",
       "...                    ...  \n",
       "239741                 0.0  \n",
       "239742                 0.0  \n",
       "239743                 0.0  \n",
       "239744                 0.0  \n",
       "239745                 0.0  \n",
       "\n",
       "[238561 rows x 29 columns]"
      ]
     },
     "execution_count": 57,
     "metadata": {},
     "output_type": "execute_result"
    }
   ],
   "source": [
    "data_new"
   ]
  },
  {
   "cell_type": "code",
   "execution_count": 58,
   "id": "90cbe0e0",
   "metadata": {},
   "outputs": [
    {
     "data": {
      "text/html": [
       "<div>\n",
       "<style scoped>\n",
       "    .dataframe tbody tr th:only-of-type {\n",
       "        vertical-align: middle;\n",
       "    }\n",
       "\n",
       "    .dataframe tbody tr th {\n",
       "        vertical-align: top;\n",
       "    }\n",
       "\n",
       "    .dataframe thead th {\n",
       "        text-align: right;\n",
       "    }\n",
       "</style>\n",
       "<table border=\"1\" class=\"dataframe\">\n",
       "  <thead>\n",
       "    <tr style=\"text-align: right;\">\n",
       "      <th></th>\n",
       "      <th>Customer_ID</th>\n",
       "      <th>TOTALQUANTITY</th>\n",
       "      <th>Main_Plates_Sale</th>\n",
       "      <th>Salads_&amp;_Powerbowls_Sale</th>\n",
       "      <th>Salads_Sale</th>\n",
       "      <th>Beverages_Sale</th>\n",
       "      <th>Mixed_Drinks_Sale</th>\n",
       "      <th>Pastas_Sale</th>\n",
       "      <th>Soups_Sale</th>\n",
       "      <th>Beer_Sale</th>\n",
       "      <th>...</th>\n",
       "      <th>Lunch_Duos_Sale</th>\n",
       "      <th>Combo_Boxes_Sale</th>\n",
       "      <th>Desserts_Sale</th>\n",
       "      <th>Kids_Sale</th>\n",
       "      <th>Sandwiches_Sale</th>\n",
       "      <th>TOTAL_DISCOUNT</th>\n",
       "      <th>%_Alcohol_of_Bill</th>\n",
       "      <th>GUEST_COUNT</th>\n",
       "      <th>DISTANCE_TO_CLOSESTSTORE</th>\n",
       "      <th>SECONDVISITFLAG</th>\n",
       "    </tr>\n",
       "  </thead>\n",
       "  <tbody>\n",
       "    <tr>\n",
       "      <th>0</th>\n",
       "      <td>138721796</td>\n",
       "      <td>17</td>\n",
       "      <td>0.0</td>\n",
       "      <td>0.0</td>\n",
       "      <td>26.28</td>\n",
       "      <td>0.0</td>\n",
       "      <td>0.0</td>\n",
       "      <td>0.00</td>\n",
       "      <td>6.99</td>\n",
       "      <td>0.0</td>\n",
       "      <td>...</td>\n",
       "      <td>22.90</td>\n",
       "      <td>0.0</td>\n",
       "      <td>0.00</td>\n",
       "      <td>0.0</td>\n",
       "      <td>0.0</td>\n",
       "      <td>0.00</td>\n",
       "      <td>0.0</td>\n",
       "      <td>6</td>\n",
       "      <td>4.468420</td>\n",
       "      <td>N</td>\n",
       "    </tr>\n",
       "    <tr>\n",
       "      <th>1</th>\n",
       "      <td>138530825</td>\n",
       "      <td>2</td>\n",
       "      <td>0.0</td>\n",
       "      <td>0.0</td>\n",
       "      <td>0.00</td>\n",
       "      <td>0.0</td>\n",
       "      <td>0.0</td>\n",
       "      <td>0.00</td>\n",
       "      <td>0.00</td>\n",
       "      <td>0.0</td>\n",
       "      <td>...</td>\n",
       "      <td>0.00</td>\n",
       "      <td>0.0</td>\n",
       "      <td>0.00</td>\n",
       "      <td>0.0</td>\n",
       "      <td>0.0</td>\n",
       "      <td>10.00</td>\n",
       "      <td>0.0</td>\n",
       "      <td>1</td>\n",
       "      <td>4.468420</td>\n",
       "      <td>N</td>\n",
       "    </tr>\n",
       "    <tr>\n",
       "      <th>2</th>\n",
       "      <td>138722449</td>\n",
       "      <td>3</td>\n",
       "      <td>0.0</td>\n",
       "      <td>0.0</td>\n",
       "      <td>0.00</td>\n",
       "      <td>0.0</td>\n",
       "      <td>0.0</td>\n",
       "      <td>0.00</td>\n",
       "      <td>0.00</td>\n",
       "      <td>0.0</td>\n",
       "      <td>...</td>\n",
       "      <td>0.00</td>\n",
       "      <td>0.0</td>\n",
       "      <td>0.00</td>\n",
       "      <td>0.0</td>\n",
       "      <td>0.0</td>\n",
       "      <td>0.00</td>\n",
       "      <td>0.0</td>\n",
       "      <td>1</td>\n",
       "      <td>4.468420</td>\n",
       "      <td>N</td>\n",
       "    </tr>\n",
       "    <tr>\n",
       "      <th>3</th>\n",
       "      <td>138729131</td>\n",
       "      <td>3</td>\n",
       "      <td>0.0</td>\n",
       "      <td>0.0</td>\n",
       "      <td>0.00</td>\n",
       "      <td>0.0</td>\n",
       "      <td>0.0</td>\n",
       "      <td>0.00</td>\n",
       "      <td>0.00</td>\n",
       "      <td>0.0</td>\n",
       "      <td>...</td>\n",
       "      <td>0.00</td>\n",
       "      <td>0.0</td>\n",
       "      <td>6.29</td>\n",
       "      <td>0.0</td>\n",
       "      <td>0.0</td>\n",
       "      <td>0.00</td>\n",
       "      <td>0.0</td>\n",
       "      <td>1</td>\n",
       "      <td>1.531161</td>\n",
       "      <td>N</td>\n",
       "    </tr>\n",
       "    <tr>\n",
       "      <th>4</th>\n",
       "      <td>138725186</td>\n",
       "      <td>1</td>\n",
       "      <td>0.0</td>\n",
       "      <td>0.0</td>\n",
       "      <td>0.00</td>\n",
       "      <td>0.0</td>\n",
       "      <td>0.0</td>\n",
       "      <td>0.00</td>\n",
       "      <td>0.00</td>\n",
       "      <td>0.0</td>\n",
       "      <td>...</td>\n",
       "      <td>0.00</td>\n",
       "      <td>0.0</td>\n",
       "      <td>0.00</td>\n",
       "      <td>0.0</td>\n",
       "      <td>0.0</td>\n",
       "      <td>0.00</td>\n",
       "      <td>0.0</td>\n",
       "      <td>1</td>\n",
       "      <td>1.531161</td>\n",
       "      <td>N</td>\n",
       "    </tr>\n",
       "    <tr>\n",
       "      <th>...</th>\n",
       "      <td>...</td>\n",
       "      <td>...</td>\n",
       "      <td>...</td>\n",
       "      <td>...</td>\n",
       "      <td>...</td>\n",
       "      <td>...</td>\n",
       "      <td>...</td>\n",
       "      <td>...</td>\n",
       "      <td>...</td>\n",
       "      <td>...</td>\n",
       "      <td>...</td>\n",
       "      <td>...</td>\n",
       "      <td>...</td>\n",
       "      <td>...</td>\n",
       "      <td>...</td>\n",
       "      <td>...</td>\n",
       "      <td>...</td>\n",
       "      <td>...</td>\n",
       "      <td>...</td>\n",
       "      <td>...</td>\n",
       "      <td>...</td>\n",
       "    </tr>\n",
       "    <tr>\n",
       "      <th>239741</th>\n",
       "      <td>154236949</td>\n",
       "      <td>1</td>\n",
       "      <td>0.0</td>\n",
       "      <td>0.0</td>\n",
       "      <td>0.00</td>\n",
       "      <td>0.0</td>\n",
       "      <td>0.0</td>\n",
       "      <td>0.00</td>\n",
       "      <td>0.00</td>\n",
       "      <td>0.0</td>\n",
       "      <td>...</td>\n",
       "      <td>0.00</td>\n",
       "      <td>0.0</td>\n",
       "      <td>0.00</td>\n",
       "      <td>0.0</td>\n",
       "      <td>0.0</td>\n",
       "      <td>5.00</td>\n",
       "      <td>0.0</td>\n",
       "      <td>1</td>\n",
       "      <td>3.549361</td>\n",
       "      <td>Y</td>\n",
       "    </tr>\n",
       "    <tr>\n",
       "      <th>239742</th>\n",
       "      <td>154239880</td>\n",
       "      <td>10</td>\n",
       "      <td>0.0</td>\n",
       "      <td>55.0</td>\n",
       "      <td>57.97</td>\n",
       "      <td>0.0</td>\n",
       "      <td>0.0</td>\n",
       "      <td>0.00</td>\n",
       "      <td>0.00</td>\n",
       "      <td>0.0</td>\n",
       "      <td>...</td>\n",
       "      <td>0.00</td>\n",
       "      <td>0.0</td>\n",
       "      <td>0.00</td>\n",
       "      <td>0.0</td>\n",
       "      <td>0.0</td>\n",
       "      <td>0.00</td>\n",
       "      <td>0.0</td>\n",
       "      <td>1</td>\n",
       "      <td>11.908136</td>\n",
       "      <td>Y</td>\n",
       "    </tr>\n",
       "    <tr>\n",
       "      <th>239743</th>\n",
       "      <td>154242996</td>\n",
       "      <td>5</td>\n",
       "      <td>0.0</td>\n",
       "      <td>0.0</td>\n",
       "      <td>0.00</td>\n",
       "      <td>0.0</td>\n",
       "      <td>0.0</td>\n",
       "      <td>9.12</td>\n",
       "      <td>0.00</td>\n",
       "      <td>0.0</td>\n",
       "      <td>...</td>\n",
       "      <td>0.00</td>\n",
       "      <td>0.0</td>\n",
       "      <td>0.00</td>\n",
       "      <td>0.0</td>\n",
       "      <td>0.0</td>\n",
       "      <td>31.40</td>\n",
       "      <td>0.0</td>\n",
       "      <td>1</td>\n",
       "      <td>6.669160</td>\n",
       "      <td>Y</td>\n",
       "    </tr>\n",
       "    <tr>\n",
       "      <th>239744</th>\n",
       "      <td>154242268</td>\n",
       "      <td>2</td>\n",
       "      <td>0.0</td>\n",
       "      <td>0.0</td>\n",
       "      <td>0.00</td>\n",
       "      <td>0.0</td>\n",
       "      <td>0.0</td>\n",
       "      <td>0.00</td>\n",
       "      <td>0.00</td>\n",
       "      <td>0.0</td>\n",
       "      <td>...</td>\n",
       "      <td>0.00</td>\n",
       "      <td>0.0</td>\n",
       "      <td>0.00</td>\n",
       "      <td>0.0</td>\n",
       "      <td>0.0</td>\n",
       "      <td>0.00</td>\n",
       "      <td>0.0</td>\n",
       "      <td>0</td>\n",
       "      <td>12.951460</td>\n",
       "      <td>Y</td>\n",
       "    </tr>\n",
       "    <tr>\n",
       "      <th>239745</th>\n",
       "      <td>154063074</td>\n",
       "      <td>4</td>\n",
       "      <td>0.0</td>\n",
       "      <td>0.0</td>\n",
       "      <td>0.00</td>\n",
       "      <td>0.0</td>\n",
       "      <td>0.0</td>\n",
       "      <td>0.00</td>\n",
       "      <td>0.00</td>\n",
       "      <td>0.0</td>\n",
       "      <td>...</td>\n",
       "      <td>16.09</td>\n",
       "      <td>0.0</td>\n",
       "      <td>0.00</td>\n",
       "      <td>0.0</td>\n",
       "      <td>0.0</td>\n",
       "      <td>10.19</td>\n",
       "      <td>0.0</td>\n",
       "      <td>1</td>\n",
       "      <td>5.747999</td>\n",
       "      <td>Y</td>\n",
       "    </tr>\n",
       "  </tbody>\n",
       "</table>\n",
       "<p>239746 rows × 28 columns</p>\n",
       "</div>"
      ],
      "text/plain": [
       "        Customer_ID  TOTALQUANTITY  Main_Plates_Sale  \\\n",
       "0         138721796             17               0.0   \n",
       "1         138530825              2               0.0   \n",
       "2         138722449              3               0.0   \n",
       "3         138729131              3               0.0   \n",
       "4         138725186              1               0.0   \n",
       "...             ...            ...               ...   \n",
       "239741    154236949              1               0.0   \n",
       "239742    154239880             10               0.0   \n",
       "239743    154242996              5               0.0   \n",
       "239744    154242268              2               0.0   \n",
       "239745    154063074              4               0.0   \n",
       "\n",
       "        Salads_&_Powerbowls_Sale  Salads_Sale  Beverages_Sale  \\\n",
       "0                            0.0        26.28             0.0   \n",
       "1                            0.0         0.00             0.0   \n",
       "2                            0.0         0.00             0.0   \n",
       "3                            0.0         0.00             0.0   \n",
       "4                            0.0         0.00             0.0   \n",
       "...                          ...          ...             ...   \n",
       "239741                       0.0         0.00             0.0   \n",
       "239742                      55.0        57.97             0.0   \n",
       "239743                       0.0         0.00             0.0   \n",
       "239744                       0.0         0.00             0.0   \n",
       "239745                       0.0         0.00             0.0   \n",
       "\n",
       "        Mixed_Drinks_Sale  Pastas_Sale  Soups_Sale  Beer_Sale  ...  \\\n",
       "0                     0.0         0.00        6.99        0.0  ...   \n",
       "1                     0.0         0.00        0.00        0.0  ...   \n",
       "2                     0.0         0.00        0.00        0.0  ...   \n",
       "3                     0.0         0.00        0.00        0.0  ...   \n",
       "4                     0.0         0.00        0.00        0.0  ...   \n",
       "...                   ...          ...         ...        ...  ...   \n",
       "239741                0.0         0.00        0.00        0.0  ...   \n",
       "239742                0.0         0.00        0.00        0.0  ...   \n",
       "239743                0.0         9.12        0.00        0.0  ...   \n",
       "239744                0.0         0.00        0.00        0.0  ...   \n",
       "239745                0.0         0.00        0.00        0.0  ...   \n",
       "\n",
       "        Lunch_Duos_Sale  Combo_Boxes_Sale  Desserts_Sale  Kids_Sale  \\\n",
       "0                 22.90               0.0           0.00        0.0   \n",
       "1                  0.00               0.0           0.00        0.0   \n",
       "2                  0.00               0.0           0.00        0.0   \n",
       "3                  0.00               0.0           6.29        0.0   \n",
       "4                  0.00               0.0           0.00        0.0   \n",
       "...                 ...               ...            ...        ...   \n",
       "239741             0.00               0.0           0.00        0.0   \n",
       "239742             0.00               0.0           0.00        0.0   \n",
       "239743             0.00               0.0           0.00        0.0   \n",
       "239744             0.00               0.0           0.00        0.0   \n",
       "239745            16.09               0.0           0.00        0.0   \n",
       "\n",
       "        Sandwiches_Sale  TOTAL_DISCOUNT  %_Alcohol_of_Bill  GUEST_COUNT  \\\n",
       "0                   0.0            0.00                0.0            6   \n",
       "1                   0.0           10.00                0.0            1   \n",
       "2                   0.0            0.00                0.0            1   \n",
       "3                   0.0            0.00                0.0            1   \n",
       "4                   0.0            0.00                0.0            1   \n",
       "...                 ...             ...                ...          ...   \n",
       "239741              0.0            5.00                0.0            1   \n",
       "239742              0.0            0.00                0.0            1   \n",
       "239743              0.0           31.40                0.0            1   \n",
       "239744              0.0            0.00                0.0            0   \n",
       "239745              0.0           10.19                0.0            1   \n",
       "\n",
       "        DISTANCE_TO_CLOSESTSTORE  SECONDVISITFLAG  \n",
       "0                       4.468420                N  \n",
       "1                       4.468420                N  \n",
       "2                       4.468420                N  \n",
       "3                       1.531161                N  \n",
       "4                       1.531161                N  \n",
       "...                          ...              ...  \n",
       "239741                  3.549361                Y  \n",
       "239742                 11.908136                Y  \n",
       "239743                  6.669160                Y  \n",
       "239744                 12.951460                Y  \n",
       "239745                  5.747999                Y  \n",
       "\n",
       "[239746 rows x 28 columns]"
      ]
     },
     "execution_count": 58,
     "metadata": {},
     "output_type": "execute_result"
    }
   ],
   "source": [
    "data"
   ]
  },
  {
   "cell_type": "code",
   "execution_count": 59,
   "id": "d9a84d42",
   "metadata": {},
   "outputs": [
    {
     "data": {
      "text/html": [
       "<div>\n",
       "<style scoped>\n",
       "    .dataframe tbody tr th:only-of-type {\n",
       "        vertical-align: middle;\n",
       "    }\n",
       "\n",
       "    .dataframe tbody tr th {\n",
       "        vertical-align: top;\n",
       "    }\n",
       "\n",
       "    .dataframe thead th {\n",
       "        text-align: right;\n",
       "    }\n",
       "</style>\n",
       "<table border=\"1\" class=\"dataframe\">\n",
       "  <thead>\n",
       "    <tr style=\"text-align: right;\">\n",
       "      <th></th>\n",
       "      <th>Customer_ID</th>\n",
       "      <th>TOTALQUANTITY</th>\n",
       "      <th>Main_Plates_Sale</th>\n",
       "      <th>Salads_&amp;_Powerbowls_Sale</th>\n",
       "      <th>Salads_Sale</th>\n",
       "      <th>Beverages_Sale</th>\n",
       "      <th>Mixed_Drinks_Sale</th>\n",
       "      <th>Pastas_Sale</th>\n",
       "      <th>Soups_Sale</th>\n",
       "      <th>Beer_Sale</th>\n",
       "      <th>...</th>\n",
       "      <th>Lunch_Duos_Sale</th>\n",
       "      <th>Combo_Boxes_Sale</th>\n",
       "      <th>Desserts_Sale</th>\n",
       "      <th>Kids_Sale</th>\n",
       "      <th>Sandwiches_Sale</th>\n",
       "      <th>TOTAL_DISCOUNT</th>\n",
       "      <th>%_Alcohol_of_Bill</th>\n",
       "      <th>GUEST_COUNT</th>\n",
       "      <th>DISTANCE_TO_CLOSESTSTORE</th>\n",
       "      <th>SECONDVISITFLAG</th>\n",
       "    </tr>\n",
       "  </thead>\n",
       "  <tbody>\n",
       "    <tr>\n",
       "      <th>0</th>\n",
       "      <td>138721796</td>\n",
       "      <td>17</td>\n",
       "      <td>0.0</td>\n",
       "      <td>0.0</td>\n",
       "      <td>26.28</td>\n",
       "      <td>0.0</td>\n",
       "      <td>0.0</td>\n",
       "      <td>0.00</td>\n",
       "      <td>6.99</td>\n",
       "      <td>0.0</td>\n",
       "      <td>...</td>\n",
       "      <td>22.90</td>\n",
       "      <td>0.0</td>\n",
       "      <td>0.00</td>\n",
       "      <td>0.0</td>\n",
       "      <td>0.0</td>\n",
       "      <td>0.00</td>\n",
       "      <td>0.0</td>\n",
       "      <td>6</td>\n",
       "      <td>4.468420</td>\n",
       "      <td>N</td>\n",
       "    </tr>\n",
       "    <tr>\n",
       "      <th>1</th>\n",
       "      <td>138530825</td>\n",
       "      <td>2</td>\n",
       "      <td>0.0</td>\n",
       "      <td>0.0</td>\n",
       "      <td>0.00</td>\n",
       "      <td>0.0</td>\n",
       "      <td>0.0</td>\n",
       "      <td>0.00</td>\n",
       "      <td>0.00</td>\n",
       "      <td>0.0</td>\n",
       "      <td>...</td>\n",
       "      <td>0.00</td>\n",
       "      <td>0.0</td>\n",
       "      <td>0.00</td>\n",
       "      <td>0.0</td>\n",
       "      <td>0.0</td>\n",
       "      <td>10.00</td>\n",
       "      <td>0.0</td>\n",
       "      <td>1</td>\n",
       "      <td>4.468420</td>\n",
       "      <td>N</td>\n",
       "    </tr>\n",
       "    <tr>\n",
       "      <th>2</th>\n",
       "      <td>138722449</td>\n",
       "      <td>3</td>\n",
       "      <td>0.0</td>\n",
       "      <td>0.0</td>\n",
       "      <td>0.00</td>\n",
       "      <td>0.0</td>\n",
       "      <td>0.0</td>\n",
       "      <td>0.00</td>\n",
       "      <td>0.00</td>\n",
       "      <td>0.0</td>\n",
       "      <td>...</td>\n",
       "      <td>0.00</td>\n",
       "      <td>0.0</td>\n",
       "      <td>0.00</td>\n",
       "      <td>0.0</td>\n",
       "      <td>0.0</td>\n",
       "      <td>0.00</td>\n",
       "      <td>0.0</td>\n",
       "      <td>1</td>\n",
       "      <td>4.468420</td>\n",
       "      <td>N</td>\n",
       "    </tr>\n",
       "    <tr>\n",
       "      <th>3</th>\n",
       "      <td>138729131</td>\n",
       "      <td>3</td>\n",
       "      <td>0.0</td>\n",
       "      <td>0.0</td>\n",
       "      <td>0.00</td>\n",
       "      <td>0.0</td>\n",
       "      <td>0.0</td>\n",
       "      <td>0.00</td>\n",
       "      <td>0.00</td>\n",
       "      <td>0.0</td>\n",
       "      <td>...</td>\n",
       "      <td>0.00</td>\n",
       "      <td>0.0</td>\n",
       "      <td>6.29</td>\n",
       "      <td>0.0</td>\n",
       "      <td>0.0</td>\n",
       "      <td>0.00</td>\n",
       "      <td>0.0</td>\n",
       "      <td>1</td>\n",
       "      <td>1.531161</td>\n",
       "      <td>N</td>\n",
       "    </tr>\n",
       "    <tr>\n",
       "      <th>4</th>\n",
       "      <td>138725186</td>\n",
       "      <td>1</td>\n",
       "      <td>0.0</td>\n",
       "      <td>0.0</td>\n",
       "      <td>0.00</td>\n",
       "      <td>0.0</td>\n",
       "      <td>0.0</td>\n",
       "      <td>0.00</td>\n",
       "      <td>0.00</td>\n",
       "      <td>0.0</td>\n",
       "      <td>...</td>\n",
       "      <td>0.00</td>\n",
       "      <td>0.0</td>\n",
       "      <td>0.00</td>\n",
       "      <td>0.0</td>\n",
       "      <td>0.0</td>\n",
       "      <td>0.00</td>\n",
       "      <td>0.0</td>\n",
       "      <td>1</td>\n",
       "      <td>1.531161</td>\n",
       "      <td>N</td>\n",
       "    </tr>\n",
       "    <tr>\n",
       "      <th>...</th>\n",
       "      <td>...</td>\n",
       "      <td>...</td>\n",
       "      <td>...</td>\n",
       "      <td>...</td>\n",
       "      <td>...</td>\n",
       "      <td>...</td>\n",
       "      <td>...</td>\n",
       "      <td>...</td>\n",
       "      <td>...</td>\n",
       "      <td>...</td>\n",
       "      <td>...</td>\n",
       "      <td>...</td>\n",
       "      <td>...</td>\n",
       "      <td>...</td>\n",
       "      <td>...</td>\n",
       "      <td>...</td>\n",
       "      <td>...</td>\n",
       "      <td>...</td>\n",
       "      <td>...</td>\n",
       "      <td>...</td>\n",
       "      <td>...</td>\n",
       "    </tr>\n",
       "    <tr>\n",
       "      <th>239741</th>\n",
       "      <td>154236949</td>\n",
       "      <td>1</td>\n",
       "      <td>0.0</td>\n",
       "      <td>0.0</td>\n",
       "      <td>0.00</td>\n",
       "      <td>0.0</td>\n",
       "      <td>0.0</td>\n",
       "      <td>0.00</td>\n",
       "      <td>0.00</td>\n",
       "      <td>0.0</td>\n",
       "      <td>...</td>\n",
       "      <td>0.00</td>\n",
       "      <td>0.0</td>\n",
       "      <td>0.00</td>\n",
       "      <td>0.0</td>\n",
       "      <td>0.0</td>\n",
       "      <td>5.00</td>\n",
       "      <td>0.0</td>\n",
       "      <td>1</td>\n",
       "      <td>3.549361</td>\n",
       "      <td>Y</td>\n",
       "    </tr>\n",
       "    <tr>\n",
       "      <th>239742</th>\n",
       "      <td>154239880</td>\n",
       "      <td>10</td>\n",
       "      <td>0.0</td>\n",
       "      <td>55.0</td>\n",
       "      <td>57.97</td>\n",
       "      <td>0.0</td>\n",
       "      <td>0.0</td>\n",
       "      <td>0.00</td>\n",
       "      <td>0.00</td>\n",
       "      <td>0.0</td>\n",
       "      <td>...</td>\n",
       "      <td>0.00</td>\n",
       "      <td>0.0</td>\n",
       "      <td>0.00</td>\n",
       "      <td>0.0</td>\n",
       "      <td>0.0</td>\n",
       "      <td>0.00</td>\n",
       "      <td>0.0</td>\n",
       "      <td>1</td>\n",
       "      <td>11.908136</td>\n",
       "      <td>Y</td>\n",
       "    </tr>\n",
       "    <tr>\n",
       "      <th>239743</th>\n",
       "      <td>154242996</td>\n",
       "      <td>5</td>\n",
       "      <td>0.0</td>\n",
       "      <td>0.0</td>\n",
       "      <td>0.00</td>\n",
       "      <td>0.0</td>\n",
       "      <td>0.0</td>\n",
       "      <td>9.12</td>\n",
       "      <td>0.00</td>\n",
       "      <td>0.0</td>\n",
       "      <td>...</td>\n",
       "      <td>0.00</td>\n",
       "      <td>0.0</td>\n",
       "      <td>0.00</td>\n",
       "      <td>0.0</td>\n",
       "      <td>0.0</td>\n",
       "      <td>31.40</td>\n",
       "      <td>0.0</td>\n",
       "      <td>1</td>\n",
       "      <td>6.669160</td>\n",
       "      <td>Y</td>\n",
       "    </tr>\n",
       "    <tr>\n",
       "      <th>239744</th>\n",
       "      <td>154242268</td>\n",
       "      <td>2</td>\n",
       "      <td>0.0</td>\n",
       "      <td>0.0</td>\n",
       "      <td>0.00</td>\n",
       "      <td>0.0</td>\n",
       "      <td>0.0</td>\n",
       "      <td>0.00</td>\n",
       "      <td>0.00</td>\n",
       "      <td>0.0</td>\n",
       "      <td>...</td>\n",
       "      <td>0.00</td>\n",
       "      <td>0.0</td>\n",
       "      <td>0.00</td>\n",
       "      <td>0.0</td>\n",
       "      <td>0.0</td>\n",
       "      <td>0.00</td>\n",
       "      <td>0.0</td>\n",
       "      <td>0</td>\n",
       "      <td>12.951460</td>\n",
       "      <td>Y</td>\n",
       "    </tr>\n",
       "    <tr>\n",
       "      <th>239745</th>\n",
       "      <td>154063074</td>\n",
       "      <td>4</td>\n",
       "      <td>0.0</td>\n",
       "      <td>0.0</td>\n",
       "      <td>0.00</td>\n",
       "      <td>0.0</td>\n",
       "      <td>0.0</td>\n",
       "      <td>0.00</td>\n",
       "      <td>0.00</td>\n",
       "      <td>0.0</td>\n",
       "      <td>...</td>\n",
       "      <td>16.09</td>\n",
       "      <td>0.0</td>\n",
       "      <td>0.00</td>\n",
       "      <td>0.0</td>\n",
       "      <td>0.0</td>\n",
       "      <td>10.19</td>\n",
       "      <td>0.0</td>\n",
       "      <td>1</td>\n",
       "      <td>5.747999</td>\n",
       "      <td>Y</td>\n",
       "    </tr>\n",
       "  </tbody>\n",
       "</table>\n",
       "<p>239746 rows × 28 columns</p>\n",
       "</div>"
      ],
      "text/plain": [
       "        Customer_ID  TOTALQUANTITY  Main_Plates_Sale  \\\n",
       "0         138721796             17               0.0   \n",
       "1         138530825              2               0.0   \n",
       "2         138722449              3               0.0   \n",
       "3         138729131              3               0.0   \n",
       "4         138725186              1               0.0   \n",
       "...             ...            ...               ...   \n",
       "239741    154236949              1               0.0   \n",
       "239742    154239880             10               0.0   \n",
       "239743    154242996              5               0.0   \n",
       "239744    154242268              2               0.0   \n",
       "239745    154063074              4               0.0   \n",
       "\n",
       "        Salads_&_Powerbowls_Sale  Salads_Sale  Beverages_Sale  \\\n",
       "0                            0.0        26.28             0.0   \n",
       "1                            0.0         0.00             0.0   \n",
       "2                            0.0         0.00             0.0   \n",
       "3                            0.0         0.00             0.0   \n",
       "4                            0.0         0.00             0.0   \n",
       "...                          ...          ...             ...   \n",
       "239741                       0.0         0.00             0.0   \n",
       "239742                      55.0        57.97             0.0   \n",
       "239743                       0.0         0.00             0.0   \n",
       "239744                       0.0         0.00             0.0   \n",
       "239745                       0.0         0.00             0.0   \n",
       "\n",
       "        Mixed_Drinks_Sale  Pastas_Sale  Soups_Sale  Beer_Sale  ...  \\\n",
       "0                     0.0         0.00        6.99        0.0  ...   \n",
       "1                     0.0         0.00        0.00        0.0  ...   \n",
       "2                     0.0         0.00        0.00        0.0  ...   \n",
       "3                     0.0         0.00        0.00        0.0  ...   \n",
       "4                     0.0         0.00        0.00        0.0  ...   \n",
       "...                   ...          ...         ...        ...  ...   \n",
       "239741                0.0         0.00        0.00        0.0  ...   \n",
       "239742                0.0         0.00        0.00        0.0  ...   \n",
       "239743                0.0         9.12        0.00        0.0  ...   \n",
       "239744                0.0         0.00        0.00        0.0  ...   \n",
       "239745                0.0         0.00        0.00        0.0  ...   \n",
       "\n",
       "        Lunch_Duos_Sale  Combo_Boxes_Sale  Desserts_Sale  Kids_Sale  \\\n",
       "0                 22.90               0.0           0.00        0.0   \n",
       "1                  0.00               0.0           0.00        0.0   \n",
       "2                  0.00               0.0           0.00        0.0   \n",
       "3                  0.00               0.0           6.29        0.0   \n",
       "4                  0.00               0.0           0.00        0.0   \n",
       "...                 ...               ...            ...        ...   \n",
       "239741             0.00               0.0           0.00        0.0   \n",
       "239742             0.00               0.0           0.00        0.0   \n",
       "239743             0.00               0.0           0.00        0.0   \n",
       "239744             0.00               0.0           0.00        0.0   \n",
       "239745            16.09               0.0           0.00        0.0   \n",
       "\n",
       "        Sandwiches_Sale  TOTAL_DISCOUNT  %_Alcohol_of_Bill  GUEST_COUNT  \\\n",
       "0                   0.0            0.00                0.0            6   \n",
       "1                   0.0           10.00                0.0            1   \n",
       "2                   0.0            0.00                0.0            1   \n",
       "3                   0.0            0.00                0.0            1   \n",
       "4                   0.0            0.00                0.0            1   \n",
       "...                 ...             ...                ...          ...   \n",
       "239741              0.0            5.00                0.0            1   \n",
       "239742              0.0            0.00                0.0            1   \n",
       "239743              0.0           31.40                0.0            1   \n",
       "239744              0.0            0.00                0.0            0   \n",
       "239745              0.0           10.19                0.0            1   \n",
       "\n",
       "        DISTANCE_TO_CLOSESTSTORE  SECONDVISITFLAG  \n",
       "0                       4.468420                N  \n",
       "1                       4.468420                N  \n",
       "2                       4.468420                N  \n",
       "3                       1.531161                N  \n",
       "4                       1.531161                N  \n",
       "...                          ...              ...  \n",
       "239741                  3.549361                Y  \n",
       "239742                 11.908136                Y  \n",
       "239743                  6.669160                Y  \n",
       "239744                 12.951460                Y  \n",
       "239745                  5.747999                Y  \n",
       "\n",
       "[239746 rows x 28 columns]"
      ]
     },
     "execution_count": 59,
     "metadata": {},
     "output_type": "execute_result"
    }
   ],
   "source": [
    "data"
   ]
  },
  {
   "cell_type": "code",
   "execution_count": null,
   "id": "29369a33",
   "metadata": {},
   "outputs": [],
   "source": []
  }
 ],
 "metadata": {
  "kernelspec": {
   "display_name": "Python 3 (ipykernel)",
   "language": "python",
   "name": "python3"
  },
  "language_info": {
   "codemirror_mode": {
    "name": "ipython",
    "version": 3
   },
   "file_extension": ".py",
   "mimetype": "text/x-python",
   "name": "python",
   "nbconvert_exporter": "python",
   "pygments_lexer": "ipython3",
   "version": "3.9.7"
  }
 },
 "nbformat": 4,
 "nbformat_minor": 5
}
